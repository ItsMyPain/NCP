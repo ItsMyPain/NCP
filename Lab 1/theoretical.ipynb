{
 "cells": [
  {
   "cell_type": "code",
   "execution_count": 1,
   "id": "757d0140c8e3d162",
   "metadata": {
    "collapsed": false,
    "ExecuteTime": {
     "end_time": "2024-04-08T14:47:02.660744Z",
     "start_time": "2024-04-08T14:47:01.013714Z"
    }
   },
   "outputs": [],
   "source": [
    "import matplotlib.pyplot as plt\n",
    "import numpy as np\n",
    "import sympy as sm\n",
    "from IPython.display import display as Idisplay, Math as Imath"
   ]
  },
  {
   "cell_type": "code",
   "execution_count": 2,
   "id": "ca5bbc764ce39d36",
   "metadata": {
    "collapsed": false,
    "ExecuteTime": {
     "end_time": "2024-04-08T14:47:02.670981Z",
     "start_time": "2024-04-08T14:47:02.662673Z"
    }
   },
   "outputs": [],
   "source": [
    "sm.init_printing()\n",
    "\n",
    "\n",
    "def display(equations):\n",
    "    Idisplay(Imath(sm.latex(equations)))"
   ]
  },
  {
   "cell_type": "code",
   "execution_count": 3,
   "id": "38b4c715f885527f",
   "metadata": {
    "collapsed": false,
    "ExecuteTime": {
     "end_time": "2024-04-08T14:47:02.681071Z",
     "start_time": "2024-04-08T14:47:02.674534Z"
    }
   },
   "outputs": [],
   "source": [
    "x, t, h, tau, lm, sg = sm.symbols('x t h tau lambda sigma')\n",
    "u_s = sm.Function('u')(x, t)\n",
    "\n",
    "a1, a2, a3, a4 = sm.symbols('a_1 a_2 a_3 a_4')"
   ]
  },
  {
   "cell_type": "code",
   "execution_count": 4,
   "id": "210e93eea7dbdebd",
   "metadata": {
    "collapsed": false,
    "ExecuteTime": {
     "end_time": "2024-04-08T14:47:02.692605Z",
     "start_time": "2024-04-08T14:47:02.684595Z"
    }
   },
   "outputs": [],
   "source": [
    "def expansion(f: sm.Function, var: sm.Symbol, delta, n=4) -> sm.Function:\n",
    "    return sum(delta ** i / sm.factorial(i) * f.diff(var, i) for i in range(n))\n",
    "\n",
    "\n",
    "def expansion2(f: sm.Function, var1: sm.Symbol, var2: sm.Symbol, delta1, delta2):\n",
    "    res = expansion(expansion(f, var1, delta1), var2, delta2).expand()\n",
    "    return (res + sm.O(delta1 ** 4) + sm.O(delta2 ** 4) + sm.O(delta1 ** 2 * delta2 ** 2)\n",
    "            + sm.O(delta1 * delta2 ** 3) + sm.O(delta1 ** 3 * delta2)).simplify().removeO()\n"
   ]
  },
  {
   "cell_type": "code",
   "execution_count": 5,
   "id": "14be8bb55d768785",
   "metadata": {
    "collapsed": false,
    "ExecuteTime": {
     "end_time": "2024-04-08T14:47:02.767401Z",
     "start_time": "2024-04-08T14:47:02.696036Z"
    }
   },
   "outputs": [],
   "source": [
    "assert expansion2(u_s, x, t, 0, 0) == u_s"
   ]
  },
  {
   "cell_type": "markdown",
   "id": "b79eb61da280efc",
   "metadata": {
    "collapsed": false
   },
   "source": [
    "![](img.png \"Title\")"
   ]
  },
  {
   "cell_type": "markdown",
   "id": "8112d07b3176bbd9",
   "metadata": {
    "collapsed": false
   },
   "source": [
    "$$\n",
    "U_m^{n+1}=a_1U_{m-1}^n+a_2U_{m+1}^n+a_3U_m^{n-1}+a_4U_{m-2}^{n-1}\n",
    "$$"
   ]
  },
  {
   "cell_type": "code",
   "execution_count": 6,
   "id": "85776d992eb21438",
   "metadata": {
    "collapsed": false,
    "ExecuteTime": {
     "end_time": "2024-04-08T14:47:03.317856Z",
     "start_time": "2024-04-08T14:47:02.770628Z"
    }
   },
   "outputs": [
    {
     "data": {
      "text/plain": "<IPython.core.display.Math object>",
      "text/latex": "$\\displaystyle \\frac{\\tau^{3} \\frac{\\partial^{3}}{\\partial t^{3}} u{\\left(x,t \\right)}}{6} + \\frac{\\tau^{2} \\frac{\\partial^{2}}{\\partial t^{2}} u{\\left(x,t \\right)}}{2} + \\tau \\frac{\\partial}{\\partial t} u{\\left(x,t \\right)} + u{\\left(x,t \\right)} = a_{1} \\left(- \\frac{h^{3} \\frac{\\partial^{3}}{\\partial x^{3}} u{\\left(x,t \\right)}}{6} + \\frac{h^{2} \\frac{\\partial^{2}}{\\partial x^{2}} u{\\left(x,t \\right)}}{2} - h \\frac{\\partial}{\\partial x} u{\\left(x,t \\right)} + u{\\left(x,t \\right)}\\right) + a_{2} \\left(\\frac{h^{3} \\frac{\\partial^{3}}{\\partial x^{3}} u{\\left(x,t \\right)}}{6} + \\frac{h^{2} \\frac{\\partial^{2}}{\\partial x^{2}} u{\\left(x,t \\right)}}{2} + h \\frac{\\partial}{\\partial x} u{\\left(x,t \\right)} + u{\\left(x,t \\right)}\\right) + a_{3} \\left(- \\frac{\\tau^{3} \\frac{\\partial^{3}}{\\partial t^{3}} u{\\left(x,t \\right)}}{6} + \\frac{\\tau^{2} \\frac{\\partial^{2}}{\\partial t^{2}} u{\\left(x,t \\right)}}{2} - \\tau \\frac{\\partial}{\\partial t} u{\\left(x,t \\right)} + u{\\left(x,t \\right)}\\right) + a_{4} \\left(- \\frac{4 h^{3} \\frac{\\partial^{3}}{\\partial x^{3}} u{\\left(x,t \\right)}}{3} - 2 h^{2} \\tau \\frac{\\partial^{3}}{\\partial x^{2}\\partial t} u{\\left(x,t \\right)} + 2 h^{2} \\frac{\\partial^{2}}{\\partial x^{2}} u{\\left(x,t \\right)} - h \\tau^{2} \\frac{\\partial^{3}}{\\partial x\\partial t^{2}} u{\\left(x,t \\right)} + 2 h \\tau \\frac{\\partial^{2}}{\\partial x\\partial t} u{\\left(x,t \\right)} - 2 h \\frac{\\partial}{\\partial x} u{\\left(x,t \\right)} - \\frac{\\tau^{3} \\frac{\\partial^{3}}{\\partial t^{3}} u{\\left(x,t \\right)}}{6} + \\frac{\\tau^{2} \\frac{\\partial^{2}}{\\partial t^{2}} u{\\left(x,t \\right)}}{2} - \\tau \\frac{\\partial}{\\partial t} u{\\left(x,t \\right)} + u{\\left(x,t \\right)}\\right)$"
     },
     "metadata": {},
     "output_type": "display_data"
    }
   ],
   "source": [
    "expr = sm.Eq(expansion2(u_s, x, t, 0, tau), a1 * expansion2(u_s, x, t, -h, 0) + a2 * expansion2(u_s, x, t, h, 0) \\\n",
    "             + a3 * expansion2(u_s, x, t, 0, -tau) + a4 * expansion2(u_s, x, t, -2 * h, -tau))\n",
    "display(expr)"
   ]
  },
  {
   "cell_type": "markdown",
   "id": "a339d065267fc290",
   "metadata": {
    "collapsed": false
   },
   "source": [
    "$$\n",
    "U_t=-\\lambda U_x\n",
    "\\\\\n",
    "U_{tt}=-\\lambda^2 U_{xx}\n",
    "\\\\\n",
    "U_{ttt}=-\\lambda^3 U_{xxxx}\n",
    "\\\\\n",
    "U_{xt}=-\\lambda U_{xx}\n",
    "\\\\\n",
    "U_{xtt}=\\lambda^2 U_{xxx}\n",
    "\\\\\n",
    "U_{xxt}=-\\lambda U_{xxx}\n",
    "$$"
   ]
  },
  {
   "cell_type": "code",
   "execution_count": 7,
   "id": "3bc2d50c553e27b2",
   "metadata": {
    "collapsed": false,
    "ExecuteTime": {
     "end_time": "2024-04-08T14:47:10.407132Z",
     "start_time": "2024-04-08T14:47:03.319792Z"
    }
   },
   "outputs": [
    {
     "data": {
      "text/plain": "<IPython.core.display.Math object>",
      "text/latex": "$\\displaystyle \\frac{\\lambda^{3} \\tau^{3} \\frac{\\partial^{3}}{\\partial x^{3}} u{\\left(x,t \\right)}}{6} - \\frac{\\lambda^{2} \\tau^{2} \\frac{\\partial^{2}}{\\partial x^{2}} u{\\left(x,t \\right)}}{2} + \\lambda \\tau \\frac{\\partial}{\\partial x} u{\\left(x,t \\right)} - u{\\left(x,t \\right)} = \\frac{a_{1} \\left(h^{3} \\frac{\\partial^{3}}{\\partial x^{3}} u{\\left(x,t \\right)} - 3 h^{2} \\frac{\\partial^{2}}{\\partial x^{2}} u{\\left(x,t \\right)} + 6 h \\frac{\\partial}{\\partial x} u{\\left(x,t \\right)} - 6 u{\\left(x,t \\right)}\\right)}{6} - \\frac{a_{2} \\left(h^{3} \\frac{\\partial^{3}}{\\partial x^{3}} u{\\left(x,t \\right)} + 3 h^{2} \\frac{\\partial^{2}}{\\partial x^{2}} u{\\left(x,t \\right)} + 6 h \\frac{\\partial}{\\partial x} u{\\left(x,t \\right)} + 6 u{\\left(x,t \\right)}\\right)}{6} - \\frac{a_{3} \\left(\\lambda^{3} \\tau^{3} \\frac{\\partial^{3}}{\\partial x^{3}} u{\\left(x,t \\right)} + 3 \\lambda^{2} \\tau^{2} \\frac{\\partial^{2}}{\\partial x^{2}} u{\\left(x,t \\right)} + 6 \\lambda \\tau \\frac{\\partial}{\\partial x} u{\\left(x,t \\right)} + 6 u{\\left(x,t \\right)}\\right)}{6} - \\frac{a_{4} \\left(- 8 h^{3} \\frac{\\partial^{3}}{\\partial x^{3}} u{\\left(x,t \\right)} + 12 h^{2} \\lambda \\tau \\frac{\\partial^{3}}{\\partial x^{3}} u{\\left(x,t \\right)} + 12 h^{2} \\frac{\\partial^{2}}{\\partial x^{2}} u{\\left(x,t \\right)} - 6 h \\lambda^{2} \\tau^{2} \\frac{\\partial^{3}}{\\partial x^{3}} u{\\left(x,t \\right)} - 12 h \\lambda \\tau \\frac{\\partial^{2}}{\\partial x^{2}} u{\\left(x,t \\right)} - 12 h \\frac{\\partial}{\\partial x} u{\\left(x,t \\right)} + \\lambda^{3} \\tau^{3} \\frac{\\partial^{3}}{\\partial x^{3}} u{\\left(x,t \\right)} + 3 \\lambda^{2} \\tau^{2} \\frac{\\partial^{2}}{\\partial x^{2}} u{\\left(x,t \\right)} + 6 \\lambda \\tau \\frac{\\partial}{\\partial x} u{\\left(x,t \\right)} + 6 u{\\left(x,t \\right)}\\right)}{6}$"
     },
     "metadata": {},
     "output_type": "display_data"
    }
   ],
   "source": [
    "expr = expr.subs(u_s.diff(t), -lm * u_s.diff(x)).simplify()\n",
    "expr = expr.subs(u_s.diff(t, 2), lm ** 2 * u_s.diff(x, 2)).simplify()\n",
    "expr = expr.subs(u_s.diff(t, 3), -lm ** 3 * u_s.diff(x, 3)).simplify()\n",
    "expr = expr.subs(u_s.diff(x).diff(t), -lm * u_s.diff(x, 2)).simplify()\n",
    "expr = expr.subs(u_s.diff(x).diff(t, 2), lm ** 2 * u_s.diff(x, 3)).simplify()\n",
    "expr = expr.subs(u_s.diff(x, 2).diff(t), -lm * u_s.diff(x, 3)).simplify()\n",
    "display(expr)"
   ]
  },
  {
   "cell_type": "code",
   "execution_count": 8,
   "id": "62c9c710ceee65b2",
   "metadata": {
    "collapsed": false,
    "ExecuteTime": {
     "end_time": "2024-04-08T14:47:10.715419Z",
     "start_time": "2024-04-08T14:47:10.409890Z"
    }
   },
   "outputs": [
    {
     "data": {
      "text/plain": "<IPython.core.display.Math object>",
      "text/latex": "$\\displaystyle \\left(a_{1} + a_{2} + a_{3} + a_{4} - 1\\right) u{\\left(x,t \\right)} + \\left(- a_{1} h + a_{2} h + a_{3} \\lambda \\tau - 2 a_{4} h + a_{4} \\lambda \\tau + \\lambda \\tau\\right) \\frac{\\partial}{\\partial x} u{\\left(x,t \\right)} + \\left(\\frac{a_{1} h^{2}}{2} + \\frac{a_{2} h^{2}}{2} + \\frac{a_{3} \\lambda^{2} \\tau^{2}}{2} + 2 a_{4} h^{2} - 2 a_{4} h \\lambda \\tau + \\frac{a_{4} \\lambda^{2} \\tau^{2}}{2} - \\frac{\\lambda^{2} \\tau^{2}}{2}\\right) \\frac{\\partial^{2}}{\\partial x^{2}} u{\\left(x,t \\right)} + \\left(- \\frac{a_{1} h^{3}}{6} + \\frac{a_{2} h^{3}}{6} + \\frac{a_{3} \\lambda^{3} \\tau^{3}}{6} - \\frac{4 a_{4} h^{3}}{3} + 2 a_{4} h^{2} \\lambda \\tau - a_{4} h \\lambda^{2} \\tau^{2} + \\frac{a_{4} \\lambda^{3} \\tau^{3}}{6} + \\frac{\\lambda^{3} \\tau^{3}}{6}\\right) \\frac{\\partial^{3}}{\\partial x^{3}} u{\\left(x,t \\right)}$"
     },
     "metadata": {},
     "output_type": "display_data"
    }
   ],
   "source": [
    "expr2 = expr.lhs - expr.rhs\n",
    "expr2 = sm.factor(expr2).collect(u_s)\n",
    "display(expr2)"
   ]
  },
  {
   "cell_type": "code",
   "execution_count": 9,
   "id": "d0f027773bff6e1b",
   "metadata": {
    "collapsed": false,
    "ExecuteTime": {
     "end_time": "2024-04-08T14:47:10.816129Z",
     "start_time": "2024-04-08T14:47:10.718423Z"
    }
   },
   "outputs": [],
   "source": [
    "system = [\n",
    "    sm.Eq(expr2.coeff(u_s), 0),\n",
    "    sm.Eq(expr2.coeff(u_s.diff(x)) / h, 0).expand().subs(lm * tau / h, sg),\n",
    "    sm.Eq(expr2.coeff(u_s.diff(x, 2)) * 2 / h ** 2, 0).expand().subs(lm * tau / h, sg),\n",
    "    sm.Eq(expr2.coeff(u_s.diff(x, 3)) * 6 / h ** 3, 0).expand().subs(lm * tau / h, sg)\n",
    "]"
   ]
  },
  {
   "cell_type": "code",
   "execution_count": 10,
   "id": "2d87a5cbc688c6f5",
   "metadata": {
    "collapsed": false,
    "ExecuteTime": {
     "end_time": "2024-04-08T14:47:10.946502Z",
     "start_time": "2024-04-08T14:47:10.823320Z"
    }
   },
   "outputs": [
    {
     "data": {
      "text/plain": "<IPython.core.display.Math object>",
      "text/latex": "$\\displaystyle a_{1} + a_{2} + a_{3} + a_{4} - 1 = 0$"
     },
     "metadata": {},
     "output_type": "display_data"
    },
    {
     "data": {
      "text/plain": "<IPython.core.display.Math object>",
      "text/latex": "$\\displaystyle - a_{1} + a_{2} + a_{3} \\sigma + a_{4} \\left(\\sigma - 2\\right) + \\sigma = 0$"
     },
     "metadata": {},
     "output_type": "display_data"
    },
    {
     "data": {
      "text/plain": "<IPython.core.display.Math object>",
      "text/latex": "$\\displaystyle a_{1} + a_{2} + a_{3} \\sigma^{2} + a_{4} \\left(\\sigma^{2} - 4 \\sigma + 4\\right) - \\sigma^{2} = 0$"
     },
     "metadata": {},
     "output_type": "display_data"
    },
    {
     "data": {
      "text/plain": "<IPython.core.display.Math object>",
      "text/latex": "$\\displaystyle - a_{1} + a_{2} + a_{3} \\sigma^{3} + a_{4} \\left(\\sigma^{3} - 6 \\sigma^{2} + 12 \\sigma - 8\\right) + \\sigma^{3} = 0$"
     },
     "metadata": {},
     "output_type": "display_data"
    }
   ],
   "source": [
    "for i in system:\n",
    "    display(sm.Eq(i.lhs.collect([a1, a2, a3, a4]).simplify(), 0))"
   ]
  },
  {
   "cell_type": "markdown",
   "source": [
    "# Первый порядок - первые два уравнения"
   ],
   "metadata": {
    "collapsed": false
   },
   "id": "fc1b3a2bd1a12583"
  },
  {
   "cell_type": "code",
   "execution_count": 11,
   "id": "9946f495d45d19b6",
   "metadata": {
    "collapsed": false,
    "ExecuteTime": {
     "end_time": "2024-04-08T14:47:10.972773Z",
     "start_time": "2024-04-08T14:47:10.949730Z"
    }
   },
   "outputs": [
    {
     "data": {
      "text/plain": "<IPython.core.display.Math object>",
      "text/latex": "$\\displaystyle \\left\\{ a_{1} : \\frac{a_{3} \\sigma}{2} - \\frac{a_{3}}{2} + \\frac{a_{4} \\sigma}{2} - \\frac{3 a_{4}}{2} + \\frac{\\sigma}{2} + \\frac{1}{2}, \\  a_{2} : - \\frac{a_{3} \\sigma}{2} - \\frac{a_{3}}{2} - \\frac{a_{4} \\sigma}{2} + \\frac{a_{4}}{2} - \\frac{\\sigma}{2} + \\frac{1}{2}\\right\\}$"
     },
     "metadata": {},
     "output_type": "display_data"
    }
   ],
   "source": [
    "system1 = sm.solve(system[:2], [a1, a2])\n",
    "display(system1)"
   ]
  },
  {
   "cell_type": "code",
   "execution_count": 12,
   "id": "56e7ae7114f76a80",
   "metadata": {
    "collapsed": false,
    "ExecuteTime": {
     "end_time": "2024-04-08T14:47:11.013363Z",
     "start_time": "2024-04-08T14:47:10.975531Z"
    }
   },
   "outputs": [
    {
     "data": {
      "text/plain": "<IPython.core.display.Math object>",
      "text/latex": "$\\displaystyle a_{3} \\left(\\frac{\\sigma}{2} - \\frac{1}{2}\\right) + a_{4} \\left(\\frac{\\sigma}{2} - \\frac{3}{2}\\right) + \\frac{\\sigma}{2} + \\frac{1}{2} \\geq 0$"
     },
     "metadata": {},
     "output_type": "display_data"
    },
    {
     "data": {
      "text/plain": "<IPython.core.display.Math object>",
      "text/latex": "$\\displaystyle a_{3} \\left(- \\frac{\\sigma}{2} - \\frac{1}{2}\\right) + a_{4} \\cdot \\left(\\frac{1}{2} - \\frac{\\sigma}{2}\\right) - \\frac{\\sigma}{2} + \\frac{1}{2} \\geq 0$"
     },
     "metadata": {},
     "output_type": "display_data"
    },
    {
     "data": {
      "text/plain": "<IPython.core.display.Math object>",
      "text/latex": "$\\displaystyle a_{3} \\geq 0$"
     },
     "metadata": {},
     "output_type": "display_data"
    },
    {
     "data": {
      "text/plain": "<IPython.core.display.Math object>",
      "text/latex": "$\\displaystyle a_{4} \\geq 0$"
     },
     "metadata": {},
     "output_type": "display_data"
    }
   ],
   "source": [
    "for i in [*system1.values(), a3, a4]:\n",
    "    display(i.collect((a3, a4)) >= 0)"
   ]
  },
  {
   "cell_type": "markdown",
   "source": [
    "# Второй порядок - первые три уравнения"
   ],
   "metadata": {
    "collapsed": false
   },
   "id": "5bd0365657de3b12"
  },
  {
   "cell_type": "code",
   "execution_count": 13,
   "id": "3640c80e0390ec30",
   "metadata": {
    "collapsed": false,
    "ExecuteTime": {
     "end_time": "2024-04-08T14:47:11.282343Z",
     "start_time": "2024-04-08T14:47:11.015810Z"
    }
   },
   "outputs": [
    {
     "data": {
      "text/plain": "<IPython.core.display.Math object>",
      "text/latex": "$\\displaystyle a_{1} = \\frac{a_{4} \\sigma - 3 a_{4} + \\sigma^{2} + \\sigma}{\\sigma + 1}$"
     },
     "metadata": {},
     "output_type": "display_data"
    },
    {
     "data": {
      "text/plain": "<IPython.core.display.Math object>",
      "text/latex": "$\\displaystyle a_{2} = - a_{4} - \\sigma$"
     },
     "metadata": {},
     "output_type": "display_data"
    },
    {
     "data": {
      "text/plain": "<IPython.core.display.Math object>",
      "text/latex": "$\\displaystyle a_{3} = \\frac{- a_{4} \\sigma + 3 a_{4} + \\sigma + 1}{\\sigma + 1}$"
     },
     "metadata": {},
     "output_type": "display_data"
    }
   ],
   "source": [
    "system2 = sm.solve(system[:3], [a1, a2, a3])\n",
    "for i, j in system2.items():\n",
    "    display(sm.Eq(i, j).simplify())"
   ]
  },
  {
   "cell_type": "markdown",
   "source": [
    "# Третий порядок - все уравнения"
   ],
   "metadata": {
    "collapsed": false
   },
   "id": "31aba89370d57547"
  },
  {
   "cell_type": "code",
   "outputs": [
    {
     "data": {
      "text/plain": "<IPython.core.display.Math object>",
      "text/latex": "$\\displaystyle a_{1} = 2 \\sigma$"
     },
     "metadata": {},
     "output_type": "display_data"
    },
    {
     "data": {
      "text/plain": "<IPython.core.display.Math object>",
      "text/latex": "$\\displaystyle a_{2} = \\frac{2 \\sigma \\left(1 - \\sigma\\right)}{\\sigma - 3}$"
     },
     "metadata": {},
     "output_type": "display_data"
    },
    {
     "data": {
      "text/plain": "<IPython.core.display.Math object>",
      "text/latex": "$\\displaystyle a_{3} + \\sigma = 1$"
     },
     "metadata": {},
     "output_type": "display_data"
    },
    {
     "data": {
      "text/plain": "<IPython.core.display.Math object>",
      "text/latex": "$\\displaystyle a_{4} = \\frac{\\sigma \\left(\\sigma + 1\\right)}{\\sigma - 3}$"
     },
     "metadata": {},
     "output_type": "display_data"
    }
   ],
   "source": [
    "system3 = sm.solve(system, [a1, a2, a3, a4])\n",
    "for i, j in system3.items():\n",
    "    display(sm.Eq(i, j).simplify())"
   ],
   "metadata": {
    "collapsed": false,
    "ExecuteTime": {
     "end_time": "2024-04-08T14:47:11.561703Z",
     "start_time": "2024-04-08T14:47:11.284288Z"
    }
   },
   "id": "362964324d0f5fab",
   "execution_count": 14
  },
  {
   "cell_type": "code",
   "outputs": [],
   "source": [
    "sigma = 0.25"
   ],
   "metadata": {
    "collapsed": false,
    "ExecuteTime": {
     "end_time": "2024-04-08T14:47:11.572044Z",
     "start_time": "2024-04-08T14:47:11.565764Z"
    }
   },
   "id": "e5b59694493a4dde",
   "execution_count": 15
  },
  {
   "cell_type": "markdown",
   "source": [
    "## Четырёхугольник в координатах x = a_4, y = a_3"
   ],
   "metadata": {
    "collapsed": false
   },
   "id": "bd6b20ec0d1bdcce"
  },
  {
   "cell_type": "code",
   "outputs": [
    {
     "data": {
      "text/plain": "<IPython.core.display.Math object>",
      "text/latex": "$\\displaystyle - \\frac{3 a_{3}}{8} - \\frac{11 a_{4}}{8} + \\frac{5}{8} \\geq 0$"
     },
     "metadata": {},
     "output_type": "display_data"
    },
    {
     "data": {
      "text/plain": "<IPython.core.display.Math object>",
      "text/latex": "$\\displaystyle - \\frac{5 a_{3}}{8} + \\frac{3 a_{4}}{8} + \\frac{3}{8} \\geq 0$"
     },
     "metadata": {},
     "output_type": "display_data"
    }
   ],
   "source": [
    "display(system1[a1].subs(sg, sigma).nsimplify() >= 0)\n",
    "display(system1[a2].subs(sg, sigma).nsimplify() >= 0)"
   ],
   "metadata": {
    "collapsed": false,
    "ExecuteTime": {
     "end_time": "2024-04-08T14:47:11.627576Z",
     "start_time": "2024-04-08T14:47:11.575593Z"
    }
   },
   "id": "1fb974aedeca9f7d",
   "execution_count": 16
  },
  {
   "cell_type": "code",
   "outputs": [
    {
     "data": {
      "text/plain": "<IPython.core.display.Math object>",
      "text/latex": "$\\displaystyle \\left( \\frac{5}{11}, \\  0\\right)$"
     },
     "metadata": {},
     "output_type": "display_data"
    },
    {
     "data": {
      "text/plain": "<IPython.core.display.Math object>",
      "text/latex": "$\\displaystyle \\left( \\frac{1}{4}, \\  \\frac{3}{4}\\right)$"
     },
     "metadata": {},
     "output_type": "display_data"
    },
    {
     "data": {
      "text/plain": "<IPython.core.display.Math object>",
      "text/latex": "$\\displaystyle \\left( 0, \\  \\frac{3}{5}\\right)$"
     },
     "metadata": {},
     "output_type": "display_data"
    },
    {
     "data": {
      "text/plain": "<IPython.core.display.Math object>",
      "text/latex": "$\\displaystyle \\left( 0, \\  0\\right)$"
     },
     "metadata": {},
     "output_type": "display_data"
    }
   ],
   "source": [
    "A = (sm.solve(sm.Eq(system1[a1].subs(a3, 0).subs(sg, sigma), 0), a4)[0].nsimplify(), 0)\n",
    "B = tuple(i.nsimplify() for i in\n",
    "          sm.solve([sm.Eq(system1[a1].subs(sg, sigma), 0), sm.Eq(system1[a2].subs(sg, sigma), 0)]).values())[::-1]\n",
    "C = (0, sm.solve(sm.Eq(system1[a2].subs(a4, 0).subs(sg, sigma), 0), a3)[0].nsimplify())\n",
    "D = (0, 0)\n",
    "display(A)\n",
    "display(B)\n",
    "display(C)\n",
    "display(D)"
   ],
   "metadata": {
    "collapsed": false,
    "ExecuteTime": {
     "end_time": "2024-04-08T14:47:11.737215Z",
     "start_time": "2024-04-08T14:47:11.630887Z"
    }
   },
   "id": "cbb82f409e84bd84",
   "execution_count": 17
  },
  {
   "cell_type": "markdown",
   "source": [
    "## Прямая в координатах x = a_4, y = a_3"
   ],
   "metadata": {
    "collapsed": false
   },
   "id": "88fd6116af17f8b"
  },
  {
   "cell_type": "code",
   "outputs": [
    {
     "data": {
      "text/plain": "<IPython.core.display.Math object>",
      "text/latex": "$\\displaystyle a_{3} = \\frac{11 a_{4}}{5} + 1$"
     },
     "metadata": {},
     "output_type": "display_data"
    }
   ],
   "source": [
    "line1 = sm.Eq(a3, system2[a3].subs(sg, sigma).nsimplify())\n",
    "display(line1)"
   ],
   "metadata": {
    "collapsed": false,
    "ExecuteTime": {
     "end_time": "2024-04-08T14:47:11.773149Z",
     "start_time": "2024-04-08T14:47:11.741908Z"
    }
   },
   "id": "58006679fcece060",
   "execution_count": 18
  },
  {
   "cell_type": "markdown",
   "source": [
    "### Построим для наглядности\n",
    "\n",
    "![](graph.png \"Graph\")"
   ],
   "metadata": {
    "collapsed": false
   },
   "id": "33359eebdbb2e62"
  },
  {
   "cell_type": "markdown",
   "source": [
    "### Найдем точку на прямой, ближайшую к четырехугольнику"
   ],
   "metadata": {
    "collapsed": false
   },
   "id": "9c52de71883a1d9"
  },
  {
   "cell_type": "code",
   "outputs": [
    {
     "data": {
      "text/plain": "<IPython.core.display.Math object>",
      "text/latex": "$\\displaystyle a_{3} = \\frac{3}{5} - \\frac{5 a_{4}}{11}$"
     },
     "metadata": {},
     "output_type": "display_data"
    },
    {
     "data": {
      "text/plain": "<IPython.core.display.Math object>",
      "text/latex": "$\\displaystyle \\left( - \\frac{11}{73}, \\  \\frac{244}{365}\\right)$"
     },
     "metadata": {},
     "output_type": "display_data"
    }
   ],
   "source": [
    "line2 = sm.Eq(a3, (-5 / 11 * a4 + 0.6).nsimplify())\n",
    "display(line2)\n",
    "M = tuple(sm.solve((line1, line2), [a4, a3]).values())[::-1]\n",
    "display(M)"
   ],
   "metadata": {
    "collapsed": false,
    "ExecuteTime": {
     "end_time": "2024-04-08T14:47:11.823746Z",
     "start_time": "2024-04-08T14:47:11.776838Z"
    }
   },
   "id": "4c52d6ac6036664e",
   "execution_count": 19
  },
  {
   "cell_type": "markdown",
   "source": [
    "### Обозначим точки левее и правее найденной\n",
    "\n",
    "![](graph_2.png \"Graph\")"
   ],
   "metadata": {
    "collapsed": false
   },
   "id": "cb2b6b4eb93c6dc7"
  },
  {
   "cell_type": "code",
   "outputs": [
    {
     "data": {
      "text/plain": "<IPython.core.display.Math object>",
      "text/latex": "$\\displaystyle \\left( -0.18, \\  0.604\\right)$"
     },
     "metadata": {},
     "output_type": "display_data"
    },
    {
     "data": {
      "text/plain": "<IPython.core.display.Math object>",
      "text/latex": "$\\displaystyle \\left( -0.1, \\  0.78\\right)$"
     },
     "metadata": {},
     "output_type": "display_data"
    }
   ],
   "source": [
    "M1 = (-0.18, line1.rhs.subs(a4, -0.18))\n",
    "display(M1)\n",
    "M2 = (-0.1, line1.rhs.subs(a4, -0.1))\n",
    "display(M2)"
   ],
   "metadata": {
    "collapsed": false,
    "ExecuteTime": {
     "end_time": "2024-04-08T14:47:11.840529Z",
     "start_time": "2024-04-08T14:47:11.827155Z"
    }
   },
   "id": "70f5f2626aa7ab71",
   "execution_count": 20
  },
  {
   "cell_type": "markdown",
   "source": [
    "## Подготовка к практике"
   ],
   "metadata": {
    "collapsed": false
   },
   "id": "42c50a3952d2b65"
  },
  {
   "cell_type": "code",
   "outputs": [],
   "source": [
    "def get_a1_1(a_3, a_4):\n",
    "    return system1[a1].subs(sg, sigma).subs(a3, a_3).subs(a4, a_4)\n",
    "\n",
    "\n",
    "def get_a2_1(a_3, a_4):\n",
    "    return system1[a2].subs(sg, sigma).subs(a3, a_3).subs(a4, a_4)\n",
    "\n",
    "\n",
    "def get_a1_2(a_4):\n",
    "    return system2[a1].subs(sg, sigma).subs(a4, a_4)\n",
    "\n",
    "\n",
    "def get_a2_2(a_4):\n",
    "    return system2[a2].subs(sg, sigma).subs(a4, a_4)\n",
    "\n",
    "\n",
    "def get_a3_2(a_4):\n",
    "    return system3[a3].subs(sg, sigma).subs(a4, a_4)\n",
    "\n",
    "\n",
    "def get_a1_3():\n",
    "    return system3[a1].subs(sg, sigma)\n",
    "\n",
    "\n",
    "def get_a2_3():\n",
    "    return system3[a2].subs(sg, sigma)\n",
    "\n",
    "\n",
    "def get_a3_3():\n",
    "    return system3[a3].subs(sg, sigma)\n",
    "\n",
    "\n",
    "def get_a4_3():\n",
    "    return system3[a4].subs(sg, sigma)"
   ],
   "metadata": {
    "collapsed": false,
    "ExecuteTime": {
     "end_time": "2024-04-08T14:47:11.854421Z",
     "start_time": "2024-04-08T14:47:11.843940Z"
    }
   },
   "id": "9d960e36642216b0",
   "execution_count": 21
  },
  {
   "cell_type": "code",
   "outputs": [],
   "source": [
    "def f(_x: np.ndarray):\n",
    "    return ((_x <= 0.6) & (0.4 <= _x)).astype(int)\n",
    "\n",
    "\n",
    "def u_an(_x: np.ndarray, _t: float):\n",
    "    return np.where(_x - _t >= 0, f(_x - _t), 0)"
   ],
   "metadata": {
    "collapsed": false,
    "ExecuteTime": {
     "end_time": "2024-04-08T14:47:11.898457Z",
     "start_time": "2024-04-08T14:47:11.865432Z"
    }
   },
   "id": "ea1d03c45e191ab0",
   "execution_count": 22
  },
  {
   "cell_type": "code",
   "outputs": [],
   "source": [
    "X = 201\n",
    "xx = np.linspace(0, 2, X)\n",
    "h_x = np.diff(xx)[0]\n",
    "\n",
    "N = 101\n",
    "tau_t = sigma * h_x\n",
    "tt = np.linspace(0, 100 * tau_t, N)"
   ],
   "metadata": {
    "collapsed": false,
    "ExecuteTime": {
     "end_time": "2024-04-08T14:47:11.910031Z",
     "start_time": "2024-04-08T14:47:11.901671Z"
    }
   },
   "id": "6a0243ccc6ec61d1",
   "execution_count": 23
  },
  {
   "cell_type": "code",
   "outputs": [],
   "source": [
    "u_analytic = np.array([u_an(xx, _t) for _t in tt])"
   ],
   "metadata": {
    "collapsed": false,
    "ExecuteTime": {
     "end_time": "2024-04-08T14:47:11.924363Z",
     "start_time": "2024-04-08T14:47:11.913099Z"
    }
   },
   "id": "37e45fdb6701b87b",
   "execution_count": 24
  },
  {
   "cell_type": "code",
   "outputs": [],
   "source": [
    "def solve(a_1, a_2, a_3, a_4, _t=100):\n",
    "    u = np.zeros((N, X))\n",
    "    u[0] = f(xx)\n",
    "    u[1] = u_an(xx, tt[1])\n",
    "    for n in range(1, N - 1):\n",
    "        u[n + 1, 2:-1] = a_1 * u[n, 1:-2] + a_2 * u[n, 3:] + a_3 * u[n - 1, 2:-1] + a_4 * u[n - 1, 0:-3]\n",
    "\n",
    "    plt.plot(xx, u[_t])\n",
    "    plt.plot(xx, u_analytic[_t])\n",
    "    plt.grid()\n",
    "    plt.show()\n"
   ],
   "metadata": {
    "collapsed": false,
    "ExecuteTime": {
     "end_time": "2024-04-08T14:47:11.934991Z",
     "start_time": "2024-04-08T14:47:11.928102Z"
    }
   },
   "id": "89a15de17af136cf",
   "execution_count": 25
  },
  {
   "cell_type": "markdown",
   "source": [
    "# Схемы первого порядка в вершинах четырехугольника"
   ],
   "metadata": {
    "collapsed": false
   },
   "id": "ea8e12b025c26e47"
  },
  {
   "cell_type": "code",
   "outputs": [
    {
     "data": {
      "text/plain": "<Figure size 640x480 with 1 Axes>",
      "image/png": "[encoded data removed]"
     },
     "metadata": {},
     "output_type": "display_data"
    }
   ],
   "source": [
    "A_p = (get_a1_1(A[1], A[0]), get_a2_1(A[1], A[0]), A[1], A[0])\n",
    "solve(*A_p)"
   ],
   "metadata": {
    "collapsed": false,
    "ExecuteTime": {
     "end_time": "2024-04-08T14:47:31.019565Z",
     "start_time": "2024-04-08T14:47:29.406787Z"
    }
   },
   "id": "9866102a359951f3",
   "execution_count": 26
  },
  {
   "cell_type": "code",
   "outputs": [
    {
     "data": {
      "text/plain": "<Figure size 640x480 with 1 Axes>",
      "image/png": "[encoded data removed]"
     },
     "metadata": {},
     "output_type": "display_data"
    }
   ],
   "source": [
    "B_p = (get_a1_1(B[1], B[0]), get_a2_1(B[1], B[0]), B[1], B[0])\n",
    "solve(*B_p)"
   ],
   "metadata": {
    "collapsed": false,
    "ExecuteTime": {
     "end_time": "2024-04-08T14:47:33.009794Z",
     "start_time": "2024-04-08T14:47:31.024898Z"
    }
   },
   "id": "d6d511ebaddfbd80",
   "execution_count": 27
  },
  {
   "cell_type": "code",
   "outputs": [
    {
     "data": {
      "text/plain": "<Figure size 640x480 with 1 Axes>",
      "image/png": "[encoded data removed]"
     },
     "metadata": {},
     "output_type": "display_data"
    }
   ],
   "source": [
    "C_p = (get_a1_1(C[1], C[0]), get_a2_1(C[1], C[0]), C[1], C[0])\n",
    "solve(*C_p)"
   ],
   "metadata": {
    "collapsed": false,
    "ExecuteTime": {
     "end_time": "2024-04-08T14:47:34.593667Z",
     "start_time": "2024-04-08T14:47:33.012843Z"
    }
   },
   "id": "966cf73da80b6647",
   "execution_count": 28
  },
  {
   "cell_type": "code",
   "outputs": [
    {
     "data": {
      "text/plain": "<Figure size 640x480 with 1 Axes>",
      "image/png": "[encoded data removed]"
     },
     "metadata": {},
     "output_type": "display_data"
    }
   ],
   "source": [
    "D_p = (get_a1_1(D[1], D[0]), get_a2_1(D[1], D[0]), D[1], D[0])\n",
    "solve(*D_p)"
   ],
   "metadata": {
    "collapsed": false,
    "ExecuteTime": {
     "end_time": "2024-04-08T14:47:36.273729Z",
     "start_time": "2024-04-08T14:47:34.597919Z"
    }
   },
   "id": "f5225227d82d8887",
   "execution_count": 29
  },
  {
   "cell_type": "markdown",
   "source": [
    "# Схемы второго порядка - наиболее близкая к четырехугольнику и по разные стороны"
   ],
   "metadata": {
    "collapsed": false
   },
   "id": "aa6fc3b9a8fa7165"
  },
  {
   "cell_type": "code",
   "outputs": [
    {
     "data": {
      "text/plain": "<Figure size 640x480 with 1 Axes>",
      "image/png": "[encoded data removed]"
     },
     "metadata": {},
     "output_type": "display_data"
    }
   ],
   "source": [
    "M_p = (get_a1_2(M[0]), get_a2_2(M[0]), M[1], M[0])\n",
    "solve(*M_p)"
   ],
   "metadata": {
    "collapsed": false,
    "ExecuteTime": {
     "end_time": "2024-04-08T14:47:37.463842Z",
     "start_time": "2024-04-08T14:47:36.276567Z"
    }
   },
   "id": "11a6683eded21cfd",
   "execution_count": 30
  },
  {
   "cell_type": "code",
   "outputs": [
    {
     "data": {
      "text/plain": "<Figure size 640x480 with 1 Axes>",
      "image/png": "[encoded data removed]"
     },
     "metadata": {},
     "output_type": "display_data"
    }
   ],
   "source": [
    "M1_p = (get_a1_2(M1[0]), get_a2_2(M1[0]), M1[1], M1[0])\n",
    "solve(*M1_p)"
   ],
   "metadata": {
    "collapsed": false,
    "ExecuteTime": {
     "end_time": "2024-04-08T14:47:39.580988Z",
     "start_time": "2024-04-08T14:47:37.467654Z"
    }
   },
   "id": "6a4a5fea0d4cbbab",
   "execution_count": 31
  },
  {
   "cell_type": "code",
   "outputs": [
    {
     "data": {
      "text/plain": "<Figure size 640x480 with 1 Axes>",
      "image/png": "[encoded data removed]"
     },
     "metadata": {},
     "output_type": "display_data"
    }
   ],
   "source": [
    "M2_p = (get_a1_2(M2[0]), get_a2_2(M2[0]), M2[1], M2[0])\n",
    "solve(*M2_p)"
   ],
   "metadata": {
    "collapsed": false,
    "ExecuteTime": {
     "end_time": "2024-04-08T14:47:41.196442Z",
     "start_time": "2024-04-08T14:47:39.585889Z"
    }
   },
   "id": "cca32bf622761520",
   "execution_count": 32
  },
  {
   "cell_type": "markdown",
   "source": [
    "# Схема третьего порядка"
   ],
   "metadata": {
    "collapsed": false
   },
   "id": "a3956e0721ccfc4"
  },
  {
   "cell_type": "code",
   "outputs": [
    {
     "data": {
      "text/plain": "<Figure size 640x480 with 1 Axes>",
      "image/png": "[encoded data removed]"
     },
     "metadata": {},
     "output_type": "display_data"
    }
   ],
   "source": [
    "M3_p = (get_a1_3(), get_a2_3(), get_a3_3(), get_a4_3())\n",
    "solve(*M3_p)"
   ],
   "metadata": {
    "collapsed": false,
    "ExecuteTime": {
     "end_time": "2024-04-08T14:47:42.219310Z",
     "start_time": "2024-04-08T14:47:41.198040Z"
    }
   },
   "id": "dc355faca1ef57c6",
   "execution_count": 33
  },
  {
   "cell_type": "markdown",
   "source": [
    "# Гибридные схемы"
   ],
   "metadata": {
    "collapsed": false
   },
   "id": "9d1d9a56941a50d7"
  },
  {
   "cell_type": "code",
   "outputs": [],
   "source": [
    "def step(aa, u, n, j):\n",
    "    return aa[0] * u[n][j - 1] + aa[1] * u[n][j + 1] + aa[2] * u[n - 1][j] + aa[3] * u[n - 1][j - 2]\n",
    "\n",
    "\n",
    "def hybrid_solve(coef, _t=100):\n",
    "    u = np.zeros((N, X))\n",
    "    u[0] = f(xx)\n",
    "    u[1] = u_an(xx, tt[1])\n",
    "    u = u.tolist()\n",
    "    for n in range(1, N - 1):\n",
    "        for j in range(2, X - 1):\n",
    "            for c in coef:\n",
    "                u[n + 1][j] = step(c, u, n, j)\n",
    "                u_min = min(u[n][j - 1], u[n - 1][j])\n",
    "                u_max = max(u[n][j - 1], u[n - 1][j])\n",
    "                if u_min <= u[n + 1][j] <= u_max:\n",
    "                    break\n",
    "\n",
    "    plt.plot(xx, u[_t])\n",
    "    plt.plot(xx, u_analytic[_t])\n",
    "    plt.grid()\n",
    "    plt.show()"
   ],
   "metadata": {
    "collapsed": false,
    "ExecuteTime": {
     "end_time": "2024-04-08T17:14:28.836852Z",
     "start_time": "2024-04-08T17:14:28.827807Z"
    }
   },
   "id": "7f56ed882b782e1b",
   "execution_count": 49
  },
  {
   "cell_type": "markdown",
   "source": [
    "### По точкам M1 и M2"
   ],
   "metadata": {
    "collapsed": false
   },
   "id": "17b21d355029f5c"
  },
  {
   "cell_type": "code",
   "outputs": [
    {
     "data": {
      "text/plain": "<Figure size 640x480 with 1 Axes>",
      "image/png": "[encoded data removed]"
     },
     "metadata": {},
     "output_type": "display_data"
    }
   ],
   "source": [
    "hybrid_solve([M1_p, M2_p])"
   ],
   "metadata": {
    "collapsed": false,
    "ExecuteTime": {
     "end_time": "2024-04-08T17:14:33.186097Z",
     "start_time": "2024-04-08T17:14:30.576263Z"
    }
   },
   "id": "294b8111b41e9aa4",
   "execution_count": 50
  },
  {
   "cell_type": "markdown",
   "source": [
    "### По точкам M3 и M1"
   ],
   "metadata": {
    "collapsed": false
   },
   "id": "1bc089cfac08bbc9"
  },
  {
   "cell_type": "code",
   "outputs": [
    {
     "data": {
      "text/plain": "<Figure size 640x480 with 1 Axes>",
      "image/png": "[encoded data removed]"
     },
     "metadata": {},
     "output_type": "display_data"
    }
   ],
   "source": [
    "hybrid_solve([M3_p, M1_p])"
   ],
   "metadata": {
    "collapsed": false,
    "ExecuteTime": {
     "end_time": "2024-04-08T17:14:35.418014Z",
     "start_time": "2024-04-08T17:14:33.449438Z"
    }
   },
   "id": "b76a752070f3c397",
   "execution_count": 51
  },
  {
   "cell_type": "markdown",
   "source": [
    "### По точкам M3, M2 и M1"
   ],
   "metadata": {
    "collapsed": false
   },
   "id": "a2a0848393231cbe"
  },
  {
   "cell_type": "code",
   "outputs": [
    {
     "data": {
      "text/plain": "<Figure size 640x480 with 1 Axes>",
      "image/png": "[encoded data removed]"
     },
     "metadata": {},
     "output_type": "display_data"
    }
   ],
   "source": [
    "hybrid_solve([M3_p, M2_p, M1_p])"
   ],
   "metadata": {
    "collapsed": false,
    "ExecuteTime": {
     "end_time": "2024-04-08T17:14:37.453140Z",
     "start_time": "2024-04-08T17:14:35.422431Z"
    }
   },
   "id": "b71b8476437b4c64",
   "execution_count": 52
  },
  {
   "cell_type": "code",
   "outputs": [],
   "source": [],
   "metadata": {
    "collapsed": false
   },
   "id": "b323e15aac82a449"
  },
  {
   "cell_type": "code",
   "outputs": [
    {
     "data": {
      "text/plain": "<IPython.core.display.Math object>",
      "text/latex": "$\\displaystyle \\left[ 0, \\  \\frac{6}{11}, \\  0, \\  \\frac{5}{11}\\right]$"
     },
     "metadata": {},
     "output_type": "display_data"
    }
   ],
   "source": [
    "display([sm.nsimplify(i) for i in A_p])"
   ],
   "metadata": {
    "collapsed": false,
    "ExecuteTime": {
     "end_time": "2024-04-08T14:53:18.155635Z",
     "start_time": "2024-04-08T14:53:18.148418Z"
    }
   },
   "id": "ce594f2d2bc02b04",
   "execution_count": 39
  },
  {
   "cell_type": "code",
   "outputs": [
    {
     "data": {
      "text/plain": "<IPython.core.display.Math object>",
      "text/latex": "$\\displaystyle \\left[ 0, \\  0, \\  \\frac{3}{4}, \\  \\frac{1}{4}\\right]$"
     },
     "metadata": {},
     "output_type": "display_data"
    }
   ],
   "source": [
    "display([sm.nsimplify(i) for i in B_p])"
   ],
   "metadata": {
    "collapsed": false,
    "ExecuteTime": {
     "end_time": "2024-04-08T14:53:27.839497Z",
     "start_time": "2024-04-08T14:53:27.829443Z"
    }
   },
   "id": "a22b66868d0d0199",
   "execution_count": 40
  },
  {
   "cell_type": "code",
   "outputs": [
    {
     "data": {
      "text/plain": "<IPython.core.display.Math object>",
      "text/latex": "$\\displaystyle \\left[ \\frac{2}{5}, \\  0, \\  \\frac{3}{5}, \\  0\\right]$"
     },
     "metadata": {},
     "output_type": "display_data"
    }
   ],
   "source": [
    "display([sm.nsimplify(i) for i in C_p])"
   ],
   "metadata": {
    "collapsed": false,
    "ExecuteTime": {
     "end_time": "2024-04-08T14:53:56.240073Z",
     "start_time": "2024-04-08T14:53:56.231611Z"
    }
   },
   "id": "fee34c83ef3525e3",
   "execution_count": 41
  },
  {
   "cell_type": "code",
   "outputs": [
    {
     "data": {
      "text/plain": "<IPython.core.display.Math object>",
      "text/latex": "$\\displaystyle \\left[ \\frac{5}{8}, \\  \\frac{3}{8}, \\  0, \\  0\\right]$"
     },
     "metadata": {},
     "output_type": "display_data"
    }
   ],
   "source": [
    "display([sm.nsimplify(i) for i in D_p])"
   ],
   "metadata": {
    "collapsed": false,
    "ExecuteTime": {
     "end_time": "2024-04-08T14:54:00.511086Z",
     "start_time": "2024-04-08T14:54:00.498748Z"
    }
   },
   "id": "afe44d3a800510c0",
   "execution_count": 42
  },
  {
   "cell_type": "code",
   "outputs": [
    {
     "data": {
      "text/plain": "<IPython.core.display.Math object>",
      "text/latex": "$\\displaystyle \\left[ \\frac{581506849315069}{1000000000000000}, \\  - \\frac{29}{292}, \\  \\frac{244}{365}, \\  - \\frac{11}{73}\\right]$"
     },
     "metadata": {},
     "output_type": "display_data"
    }
   ],
   "source": [
    "display([sm.nsimplify(i) for i in M_p])"
   ],
   "metadata": {
    "collapsed": false,
    "ExecuteTime": {
     "end_time": "2024-04-08T16:00:32.684540Z",
     "start_time": "2024-04-08T16:00:32.630716Z"
    }
   },
   "id": "f8175acb07111362",
   "execution_count": 47
  },
  {
   "cell_type": "code",
   "outputs": [
    {
     "data": {
      "text/plain": "<IPython.core.display.Math object>",
      "text/latex": "$\\displaystyle \\left[ \\frac{323}{500}, \\  - \\frac{7}{100}, \\  \\frac{151}{250}, \\  - \\frac{9}{50}\\right]$"
     },
     "metadata": {},
     "output_type": "display_data"
    }
   ],
   "source": [
    "display([sm.nsimplify(i) for i in M1_p])"
   ],
   "metadata": {
    "collapsed": false,
    "ExecuteTime": {
     "end_time": "2024-04-08T14:54:27.400959Z",
     "start_time": "2024-04-08T14:54:27.353865Z"
    }
   },
   "id": "927054addbf1e3f5",
   "execution_count": 44
  },
  {
   "cell_type": "code",
   "outputs": [
    {
     "data": {
      "text/plain": "<IPython.core.display.Math object>",
      "text/latex": "$\\displaystyle \\left[ \\frac{47}{100}, \\  - \\frac{3}{20}, \\  \\frac{39}{50}, \\  - \\frac{1}{10}\\right]$"
     },
     "metadata": {},
     "output_type": "display_data"
    }
   ],
   "source": [
    "display([sm.nsimplify(i) for i in M2_p])"
   ],
   "metadata": {
    "collapsed": false,
    "ExecuteTime": {
     "end_time": "2024-04-08T14:54:30.551363Z",
     "start_time": "2024-04-08T14:54:30.539737Z"
    }
   },
   "id": "1f4a3e4355c02cd6",
   "execution_count": 45
  },
  {
   "cell_type": "code",
   "outputs": [
    {
     "data": {
      "text/plain": "<IPython.core.display.Math object>",
      "text/latex": "$\\displaystyle \\left[ \\frac{1}{2}, \\  - \\frac{3}{22}, \\  \\frac{3}{4}, \\  - \\frac{5}{44}\\right]$"
     },
     "metadata": {},
     "output_type": "display_data"
    }
   ],
   "source": [
    "display([sm.nsimplify(i) for i in M3_p])"
   ],
   "metadata": {
    "collapsed": false,
    "ExecuteTime": {
     "end_time": "2024-04-08T14:54:33.683164Z",
     "start_time": "2024-04-08T14:54:33.668525Z"
    }
   },
   "id": "3f4afd5d1c5fd61b",
   "execution_count": 46
  },
  {
   "cell_type": "code",
   "outputs": [],
   "source": [],
   "metadata": {
    "collapsed": false
   },
   "id": "88ef27cd711efe5b"
  }
 ],
 "metadata": {
  "kernelspec": {
   "display_name": "Python 3 (ipykernel)",
   "language": "python",
   "name": "python3"
  },
  "language_info": {
   "codemirror_mode": {
    "name": "ipython",
    "version": 3
   },
   "file_extension": ".py",
   "mimetype": "text/x-python",
   "name": "python",
   "nbconvert_exporter": "python",
   "pygments_lexer": "ipython3",
   "version": "3.10.12"
  }
 },
 "nbformat": 4,
 "nbformat_minor": 5
}
