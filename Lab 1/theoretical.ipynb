{
 "cells": [
  {
   "cell_type": "code",
   "execution_count": 3,
   "id": "757d0140c8e3d162",
   "metadata": {
    "ExecuteTime": {
     "end_time": "2024-02-26T17:45:33.563128300Z",
     "start_time": "2024-02-26T17:45:32.787478400Z"
    },
    "collapsed": false
   },
   "outputs": [],
   "source": [
    "import sympy as sm\n",
    "from IPython.display import display"
   ]
  },
  {
   "cell_type": "code",
   "execution_count": 4,
   "id": "ca5bbc764ce39d36",
   "metadata": {
    "ExecuteTime": {
     "end_time": "2024-02-26T17:45:34.192651600Z",
     "start_time": "2024-02-26T17:45:34.159716400Z"
    },
    "collapsed": false
   },
   "outputs": [],
   "source": [
    "sm.init_printing()"
   ]
  },
  {
   "cell_type": "code",
   "execution_count": 5,
   "id": "38b4c715f885527f",
   "metadata": {
    "ExecuteTime": {
     "end_time": "2024-02-26T17:45:34.814989400Z",
     "start_time": "2024-02-26T17:45:34.787925300Z"
    },
    "collapsed": false
   },
   "outputs": [],
   "source": [
    "x: sm.Symbol\n",
    "t: sm.Symbol\n",
    "h: sm.Symbol\n",
    "tau: sm.Symbol\n",
    "u: sm.Function\n",
    "lm: sm.Symbol\n",
    "sg: sm.Symbol\n",
    "x, t, h, tau, lm, sg = sm.symbols('x t h tau lambda sigma')\n",
    "u = sm.Function('u')(x, t)\n",
    "\n",
    "a1, a2, a3, a4 = sm.symbols('a_1 a_2 a_3 a_4')"
   ]
  },
  {
   "cell_type": "code",
   "execution_count": 6,
   "id": "210e93eea7dbdebd",
   "metadata": {
    "ExecuteTime": {
     "end_time": "2024-02-26T17:45:35.434162300Z",
     "start_time": "2024-02-26T17:45:35.412608800Z"
    },
    "collapsed": false
   },
   "outputs": [],
   "source": [
    "def expansion(f: sm.Function, var: sm.Symbol, delta, n=4) -> sm.Function:\n",
    "    return sum(delta ** i / sm.factorial(i) * f.diff(var, i) for i in range(n))\n",
    "\n",
    "\n",
    "def expansion2(f: sm.Function, var1: sm.Symbol, var2: sm.Symbol, delta1, delta2):\n",
    "    res = expansion(expansion(f, var1, delta1), var2, delta2).expand()\n",
    "    return (res + sm.O(delta1 ** 4) + sm.O(delta2 ** 4) + sm.O(delta1 ** 2 * delta2 ** 2)\n",
    "            + sm.O(delta1 * delta2 ** 3) + sm.O(delta1 ** 3 * delta2)).simplify().removeO()\n"
   ]
  },
  {
   "cell_type": "code",
   "execution_count": 7,
   "id": "14be8bb55d768785",
   "metadata": {
    "ExecuteTime": {
     "end_time": "2024-02-26T17:45:36.172332700Z",
     "start_time": "2024-02-26T17:45:36.073046700Z"
    },
    "collapsed": false
   },
   "outputs": [],
   "source": [
    "assert expansion2(u, x, t, 0, 0) == u"
   ]
  },
  {
   "cell_type": "markdown",
   "id": "b79eb61da280efc",
   "metadata": {
    "collapsed": false
   },
   "source": [
    "![](img.png \"Title\")"
   ]
  },
  {
   "cell_type": "markdown",
   "id": "8112d07b3176bbd9",
   "metadata": {
    "collapsed": false
   },
   "source": [
    "$$\n",
    "U_m^{n+1}=a_1U_{m-1}^n+a_2U_{m+1}^n+a_3U_m^{n-1}+a_4U_{m-2}^{n-1}\n",
    "$$"
   ]
  },
  {
   "cell_type": "code",
   "execution_count": 16,
   "id": "85776d992eb21438",
   "metadata": {
    "ExecuteTime": {
     "end_time": "2024-02-26T17:50:30.849577Z",
     "start_time": "2024-02-26T17:50:29.931968Z"
    },
    "collapsed": false
   },
   "outputs": [
    {
     "data": {
      "text/latex": [
       "$\\displaystyle \\frac{\\tau^{3} \\frac{\\partial^{3}}{\\partial t^{3}} u{\\left(x,t \\right)}}{6} + \\frac{\\tau^{2} \\frac{\\partial^{2}}{\\partial t^{2}} u{\\left(x,t \\right)}}{2} + \\tau \\frac{\\partial}{\\partial t} u{\\left(x,t \\right)} + u{\\left(x,t \\right)} = a_{1} \\left(- \\frac{h^{3} \\frac{\\partial^{3}}{\\partial x^{3}} u{\\left(x,t \\right)}}{6} + \\frac{h^{2} \\frac{\\partial^{2}}{\\partial x^{2}} u{\\left(x,t \\right)}}{2} - h \\frac{\\partial}{\\partial x} u{\\left(x,t \\right)} + u{\\left(x,t \\right)}\\right) + a_{2} \\left(\\frac{h^{3} \\frac{\\partial^{3}}{\\partial x^{3}} u{\\left(x,t \\right)}}{6} + \\frac{h^{2} \\frac{\\partial^{2}}{\\partial x^{2}} u{\\left(x,t \\right)}}{2} + h \\frac{\\partial}{\\partial x} u{\\left(x,t \\right)} + u{\\left(x,t \\right)}\\right) + a_{3} \\left(- \\frac{\\tau^{3} \\frac{\\partial^{3}}{\\partial t^{3}} u{\\left(x,t \\right)}}{6} + \\frac{\\tau^{2} \\frac{\\partial^{2}}{\\partial t^{2}} u{\\left(x,t \\right)}}{2} - \\tau \\frac{\\partial}{\\partial t} u{\\left(x,t \\right)} + u{\\left(x,t \\right)}\\right) + a_{4} \\left(- \\frac{4 h^{3} \\frac{\\partial^{3}}{\\partial x^{3}} u{\\left(x,t \\right)}}{3} - 2 h^{2} \\tau \\frac{\\partial^{3}}{\\partial x^{2}\\partial t} u{\\left(x,t \\right)} + 2 h^{2} \\frac{\\partial^{2}}{\\partial x^{2}} u{\\left(x,t \\right)} - h \\tau^{2} \\frac{\\partial^{3}}{\\partial x\\partial t^{2}} u{\\left(x,t \\right)} + 2 h \\tau \\frac{\\partial^{2}}{\\partial x\\partial t} u{\\left(x,t \\right)} - 2 h \\frac{\\partial}{\\partial x} u{\\left(x,t \\right)} - \\frac{\\tau^{3} \\frac{\\partial^{3}}{\\partial t^{3}} u{\\left(x,t \\right)}}{6} + \\frac{\\tau^{2} \\frac{\\partial^{2}}{\\partial t^{2}} u{\\left(x,t \\right)}}{2} - \\tau \\frac{\\partial}{\\partial t} u{\\left(x,t \\right)} + u{\\left(x,t \\right)}\\right)$"
      ],
      "text/plain": [
       "     3                 2                                         ⎛       3    \n",
       " 3  ∂              2  ∂                                          ⎜   3  ∂     \n",
       "τ ⋅───(u(x, t))   τ ⋅───(u(x, t))                                ⎜  h ⋅───(u(x\n",
       "     3                 2                                         ⎜       3    \n",
       "   ∂t                ∂t               ∂                          ⎜     ∂x     \n",
       "─────────────── + ─────────────── + τ⋅──(u(x, t)) + u(x, t) = a₁⋅⎜- ──────────\n",
       "       6                 2            ∂t                         ⎝         6  \n",
       "                                                                              \n",
       "\n",
       "             2                                   ⎞      ⎛     3               \n",
       "         2  ∂                                    ⎟      ⎜ 3  ∂              2 \n",
       ", t))   h ⋅───(u(x, t))                          ⎟      ⎜h ⋅───(u(x, t))   h ⋅\n",
       "             2                                   ⎟      ⎜     3               \n",
       "           ∂x               ∂                    ⎟      ⎜   ∂x                \n",
       "───── + ─────────────── - h⋅──(u(x, t)) + u(x, t)⎟ + a₂⋅⎜─────────────── + ───\n",
       "               2            ∂x                   ⎠      ⎝       6             \n",
       "                                                                              \n",
       "\n",
       "  2                                   ⎞      ⎛       3                 2      \n",
       " ∂                                    ⎟      ⎜   3  ∂              2  ∂       \n",
       "───(u(x, t))                          ⎟      ⎜  τ ⋅───(u(x, t))   τ ⋅───(u(x, \n",
       "  2                                   ⎟      ⎜       3                 2      \n",
       "∂x               ∂                    ⎟      ⎜     ∂t                ∂t       \n",
       "──────────── + h⋅──(u(x, t)) + u(x, t)⎟ + a₃⋅⎜- ─────────────── + ────────────\n",
       "    2            ∂x                   ⎠      ⎝         6                 2    \n",
       "                                                                              \n",
       "\n",
       "                             ⎞      ⎛         3                               \n",
       "                             ⎟      ⎜     3  ∂                                \n",
       "t))                          ⎟      ⎜  4⋅h ⋅───(u(x, t))                      \n",
       "                             ⎟      ⎜         3                      3        \n",
       "        ∂                    ⎟      ⎜       ∂x                2     ∂         \n",
       "─── - τ⋅──(u(x, t)) + u(x, t)⎟ + a₄⋅⎜- ───────────────── - 2⋅h ⋅τ⋅──────(u(x, \n",
       "        ∂t                   ⎠      ⎜          3                    2         \n",
       "                                    ⎝                             ∂x  ∂t      \n",
       "\n",
       "                                                                              \n",
       "                                                                              \n",
       "                                                                              \n",
       "             2                    3                       2                   \n",
       "         2  ∂                2   ∂                       ∂                  ∂ \n",
       "t)) + 2⋅h ⋅───(u(x, t)) - h⋅τ ⋅──────(u(x, t)) + 2⋅h⋅τ⋅─────(u(x, t)) - 2⋅h⋅──\n",
       "             2                      2                  ∂x ∂t                ∂x\n",
       "           ∂x                  ∂x ∂t                                          \n",
       "\n",
       "                 3                 2                                   ⎞\n",
       "             3  ∂              2  ∂                                    ⎟\n",
       "            τ ⋅───(u(x, t))   τ ⋅───(u(x, t))                          ⎟\n",
       "                 3                 2                                   ⎟\n",
       "               ∂t                ∂t               ∂                    ⎟\n",
       "(u(x, t)) - ─────────────── + ─────────────── - τ⋅──(u(x, t)) + u(x, t)⎟\n",
       "                   6                 2            ∂t                   ⎟\n",
       "                                                                       ⎠"
      ]
     },
     "metadata": {},
     "output_type": "display_data"
    }
   ],
   "source": [
    "expr = sm.Eq(expansion2(u, x, t, 0, tau), a1 * expansion2(u, x, t, -h, 0) + a2 * expansion2(u, x, t, h, 0) \\\n",
    "             + a3 * expansion2(u, x, t, 0, -tau) + a4 * expansion2(u, x, t, -2 * h, -tau))\n",
    "display(expr)"
   ]
  },
  {
   "cell_type": "markdown",
   "id": "a339d065267fc290",
   "metadata": {
    "collapsed": false
   },
   "source": [
    "$$\n",
    "U_t=-\\lambda U_x\n",
    "\\\\\n",
    "U_{tt}=-\\lambda^2 U_{xx}\n",
    "\\\\\n",
    "U_{ttt}=-\\lambda^3 U_{xxxx}\n",
    "\\\\\n",
    "U_{xt}=-\\lambda U_{xx}\n",
    "\\\\\n",
    "U_{xtt}=\\lambda^2 U_{xxx}\n",
    "\\\\\n",
    "U_{xxt}=-\\lambda U_{xxx}\n",
    "$$"
   ]
  },
  {
   "cell_type": "code",
   "execution_count": 17,
   "id": "3bc2d50c553e27b2",
   "metadata": {
    "ExecuteTime": {
     "end_time": "2024-02-26T17:50:49.916848800Z",
     "start_time": "2024-02-26T17:50:34.803703Z"
    },
    "collapsed": false
   },
   "outputs": [
    {
     "data": {
      "text/latex": [
       "$\\displaystyle \\frac{\\lambda^{3} \\tau^{3} \\frac{\\partial^{3}}{\\partial x^{3}} u{\\left(x,t \\right)}}{6} - \\frac{\\lambda^{2} \\tau^{2} \\frac{\\partial^{2}}{\\partial x^{2}} u{\\left(x,t \\right)}}{2} + \\lambda \\tau \\frac{\\partial}{\\partial x} u{\\left(x,t \\right)} - u{\\left(x,t \\right)} = \\frac{a_{1} \\left(h^{3} \\frac{\\partial^{3}}{\\partial x^{3}} u{\\left(x,t \\right)} - 3 h^{2} \\frac{\\partial^{2}}{\\partial x^{2}} u{\\left(x,t \\right)} + 6 h \\frac{\\partial}{\\partial x} u{\\left(x,t \\right)} - 6 u{\\left(x,t \\right)}\\right)}{6} - \\frac{a_{2} \\left(h^{3} \\frac{\\partial^{3}}{\\partial x^{3}} u{\\left(x,t \\right)} + 3 h^{2} \\frac{\\partial^{2}}{\\partial x^{2}} u{\\left(x,t \\right)} + 6 h \\frac{\\partial}{\\partial x} u{\\left(x,t \\right)} + 6 u{\\left(x,t \\right)}\\right)}{6} - \\frac{a_{3} \\left(\\lambda^{3} \\tau^{3} \\frac{\\partial^{3}}{\\partial x^{3}} u{\\left(x,t \\right)} + 3 \\lambda^{2} \\tau^{2} \\frac{\\partial^{2}}{\\partial x^{2}} u{\\left(x,t \\right)} + 6 \\lambda \\tau \\frac{\\partial}{\\partial x} u{\\left(x,t \\right)} + 6 u{\\left(x,t \\right)}\\right)}{6} - \\frac{a_{4} \\left(- 8 h^{3} \\frac{\\partial^{3}}{\\partial x^{3}} u{\\left(x,t \\right)} + 12 h^{2} \\lambda \\tau \\frac{\\partial^{3}}{\\partial x^{3}} u{\\left(x,t \\right)} + 12 h^{2} \\frac{\\partial^{2}}{\\partial x^{2}} u{\\left(x,t \\right)} - 6 h \\lambda^{2} \\tau^{2} \\frac{\\partial^{3}}{\\partial x^{3}} u{\\left(x,t \\right)} - 12 h \\lambda \\tau \\frac{\\partial^{2}}{\\partial x^{2}} u{\\left(x,t \\right)} - 12 h \\frac{\\partial}{\\partial x} u{\\left(x,t \\right)} + \\lambda^{3} \\tau^{3} \\frac{\\partial^{3}}{\\partial x^{3}} u{\\left(x,t \\right)} + 3 \\lambda^{2} \\tau^{2} \\frac{\\partial^{2}}{\\partial x^{2}} u{\\left(x,t \\right)} + 6 \\lambda \\tau \\frac{\\partial}{\\partial x} u{\\left(x,t \\right)} + 6 u{\\left(x,t \\right)}\\right)}{6}$"
      ],
      "text/plain": [
       "        3                    2                                           ⎛    \n",
       " 3  3  ∂              2  2  ∂                                            ⎜ 3  \n",
       "λ ⋅τ ⋅───(u(x, t))   λ ⋅τ ⋅───(u(x, t))                               a₁⋅⎜h ⋅─\n",
       "        3                    2                                           ⎜    \n",
       "      ∂x                   ∂x                 ∂                          ⎝   ∂\n",
       "────────────────── - ────────────────── + λ⋅τ⋅──(u(x, t)) - u(x, t) = ────────\n",
       "        6                    2                ∂x                              \n",
       "\n",
       " 3                   2                                       ⎞      ⎛     3   \n",
       "∂                2  ∂                 ∂                      ⎟      ⎜ 3  ∂    \n",
       "──(u(x, t)) - 3⋅h ⋅───(u(x, t)) + 6⋅h⋅──(u(x, t)) - 6⋅u(x, t)⎟   a₂⋅⎜h ⋅───(u(\n",
       " 3                   2                ∂x                     ⎟      ⎜     3   \n",
       "x                  ∂x                                        ⎠      ⎝   ∂x    \n",
       "────────────────────────────────────────────────────────────── - ─────────────\n",
       "                          6                                                   \n",
       "\n",
       "                2                                       ⎞      ⎛        3     \n",
       "            2  ∂                 ∂                      ⎟      ⎜ 3  3  ∂      \n",
       "x, t)) + 3⋅h ⋅───(u(x, t)) + 6⋅h⋅──(u(x, t)) + 6⋅u(x, t)⎟   a₃⋅⎜λ ⋅τ ⋅───(u(x,\n",
       "                2                ∂x                     ⎟      ⎜        3     \n",
       "              ∂x                                        ⎠      ⎝      ∂x      \n",
       "───────────────────────────────────────────────────────── - ──────────────────\n",
       "                     6                                                        \n",
       "\n",
       "                 2                                         ⎞      ⎛         3 \n",
       "          2  2  ∂                   ∂                      ⎟      ⎜     3  ∂  \n",
       " t)) + 3⋅λ ⋅τ ⋅───(u(x, t)) + 6⋅λ⋅τ⋅──(u(x, t)) + 6⋅u(x, t)⎟   a₄⋅⎜- 8⋅h ⋅───(\n",
       "                 2                  ∂x                     ⎟      ⎜         3 \n",
       "               ∂x                                          ⎠      ⎝       ∂x  \n",
       "──────────────────────────────────────────────────────────── - ───────────────\n",
       "                    6                                                         \n",
       "\n",
       "                       3                    2                        3        \n",
       "               2      ∂                 2  ∂                  2  2  ∂         \n",
       "u(x, t)) + 12⋅h ⋅λ⋅τ⋅───(u(x, t)) + 12⋅h ⋅───(u(x, t)) - 6⋅h⋅λ ⋅τ ⋅───(u(x, t)\n",
       "                       3                    2                        3        \n",
       "                     ∂x                   ∂x                       ∂x         \n",
       "──────────────────────────────────────────────────────────────────────────────\n",
       "                                                                              \n",
       "\n",
       "               2                                       3                      \n",
       "              ∂                  ∂              3  3  ∂                2  2  ∂\n",
       ") - 12⋅h⋅λ⋅τ⋅───(u(x, t)) - 12⋅h⋅──(u(x, t)) + λ ⋅τ ⋅───(u(x, t)) + 3⋅λ ⋅τ ⋅──\n",
       "               2                 ∂x                    3                      \n",
       "             ∂x                                      ∂x                     ∂x\n",
       "──────────────────────────────────────────────────────────────────────────────\n",
       "             6                                                                \n",
       "\n",
       "2                                         ⎞\n",
       "                   ∂                      ⎟\n",
       "─(u(x, t)) + 6⋅λ⋅τ⋅──(u(x, t)) + 6⋅u(x, t)⎟\n",
       "2                  ∂x                     ⎟\n",
       "                                          ⎠\n",
       "───────────────────────────────────────────\n",
       "                                           "
      ]
     },
     "metadata": {},
     "output_type": "display_data"
    }
   ],
   "source": [
    "expr = expr.subs(u.diff(t), -lm * u.diff(x)).simplify()\n",
    "expr = expr.subs(u.diff(t, 2), lm ** 2 * u.diff(x, 2)).simplify()\n",
    "expr = expr.subs(u.diff(t, 3), -lm ** 3 * u.diff(x, 3)).simplify()\n",
    "expr = expr.subs(u.diff(x).diff(t), -lm * u.diff(x, 2)).simplify()\n",
    "expr = expr.subs(u.diff(x).diff(t, 2), lm ** 2 * u.diff(x, 3)).simplify()\n",
    "expr = expr.subs(u.diff(x, 2).diff(t), -lm * u.diff(x, 3)).simplify()\n",
    "display(expr)"
   ]
  },
  {
   "cell_type": "code",
   "execution_count": 18,
   "id": "62c9c710ceee65b2",
   "metadata": {
    "ExecuteTime": {
     "end_time": "2024-02-26T17:51:07.911232200Z",
     "start_time": "2024-02-26T17:51:06.999432400Z"
    },
    "collapsed": false
   },
   "outputs": [
    {
     "data": {
      "text/latex": [
       "$\\displaystyle \\left(a_{1} + a_{2} + a_{3} + a_{4} - 1\\right) u{\\left(x,t \\right)} + \\left(- a_{1} h + a_{2} h + a_{3} \\lambda \\tau - 2 a_{4} h + a_{4} \\lambda \\tau + \\lambda \\tau\\right) \\frac{\\partial}{\\partial x} u{\\left(x,t \\right)} + \\left(\\frac{a_{1} h^{2}}{2} + \\frac{a_{2} h^{2}}{2} + \\frac{a_{3} \\lambda^{2} \\tau^{2}}{2} + 2 a_{4} h^{2} - 2 a_{4} h \\lambda \\tau + \\frac{a_{4} \\lambda^{2} \\tau^{2}}{2} - \\frac{\\lambda^{2} \\tau^{2}}{2}\\right) \\frac{\\partial^{2}}{\\partial x^{2}} u{\\left(x,t \\right)} + \\left(- \\frac{a_{1} h^{3}}{6} + \\frac{a_{2} h^{3}}{6} + \\frac{a_{3} \\lambda^{3} \\tau^{3}}{6} - \\frac{4 a_{4} h^{3}}{3} + 2 a_{4} h^{2} \\lambda \\tau - a_{4} h \\lambda^{2} \\tau^{2} + \\frac{a_{4} \\lambda^{3} \\tau^{3}}{6} + \\frac{\\lambda^{3} \\tau^{3}}{6}\\right) \\frac{\\partial^{3}}{\\partial x^{3}} u{\\left(x,t \\right)}$"
      ],
      "text/plain": [
       "                                                                              \n",
       "                                                                              \n",
       "(a₁ + a₂ + a₃ + a₄ - 1)⋅u(x, t) + (-a₁⋅h + a₂⋅h + a₃⋅λ⋅τ - 2⋅a₄⋅h + a₄⋅λ⋅τ + λ\n",
       "                                                                              \n",
       "                                                                              \n",
       "\n",
       "                  ⎛    2       2       2  2                              2  2 \n",
       "    ∂             ⎜a₁⋅h    a₂⋅h    a₃⋅λ ⋅τ          2                a₄⋅λ ⋅τ  \n",
       "⋅τ)⋅──(u(x, t)) + ⎜───── + ───── + ──────── + 2⋅a₄⋅h  - 2⋅a₄⋅h⋅λ⋅τ + ──────── \n",
       "    ∂x            ⎝  2       2        2                                 2     \n",
       "                                                                              \n",
       "\n",
       "   2  2⎞   2            ⎛      3       3       3  3         3                 \n",
       "  λ ⋅τ ⎟  ∂             ⎜  a₁⋅h    a₂⋅h    a₃⋅λ ⋅τ    4⋅a₄⋅h          2       \n",
       "- ─────⎟⋅───(u(x, t)) + ⎜- ───── + ───── + ──────── - ─────── + 2⋅a₄⋅h ⋅λ⋅τ - \n",
       "    2  ⎠   2            ⎝    6       6        6          3                    \n",
       "         ∂x                                                                   \n",
       "\n",
       "                 3  3    3  3⎞   3         \n",
       "      2  2   a₄⋅λ ⋅τ    λ ⋅τ ⎟  ∂          \n",
       "a₄⋅h⋅λ ⋅τ  + ──────── + ─────⎟⋅───(u(x, t))\n",
       "                6         6  ⎠   3         \n",
       "                               ∂x          "
      ]
     },
     "metadata": {},
     "output_type": "display_data"
    }
   ],
   "source": [
    "expr2 = expr.lhs - expr.rhs\n",
    "expr2 = sm.factor(expr2).collect(u)\n",
    "display(expr2)"
   ]
  },
  {
   "cell_type": "code",
   "execution_count": 22,
   "id": "d0f027773bff6e1b",
   "metadata": {
    "ExecuteTime": {
     "end_time": "2024-02-26T17:52:00.800536Z",
     "start_time": "2024-02-26T17:52:00.788539800Z"
    },
    "collapsed": false
   },
   "outputs": [],
   "source": [
    "system = [\n",
    "    sm.Eq(expr2.coeff(u), 0),\n",
    "    sm.Eq(expr2.coeff(u.diff(x)) / h, 0).expand().subs(lm * tau / h, sg),\n",
    "    sm.Eq(expr2.coeff(u.diff(x, 2)) * 2 / h ** 2, 0).expand().subs(lm * tau / h, sg),\n",
    "    sm.Eq(expr2.coeff(u.diff(x, 3)) * 6 / h ** 3, 0).expand().subs(lm * tau / h, sg)\n",
    "]"
   ]
  },
  {
   "cell_type": "code",
   "execution_count": 29,
   "id": "2d87a5cbc688c6f5",
   "metadata": {
    "ExecuteTime": {
     "end_time": "2024-02-26T18:01:49.409906400Z",
     "start_time": "2024-02-26T18:01:48.832440500Z"
    },
    "collapsed": false
   },
   "outputs": [
    {
     "data": {
      "text/latex": [
       "$\\displaystyle a_{1} + a_{2} + a_{3} + a_{4} - 1 = 0$"
      ],
      "text/plain": [
       "a₁ + a₂ + a₃ + a₄ - 1 = 0"
      ]
     },
     "metadata": {},
     "output_type": "display_data"
    },
    {
     "data": {
      "text/latex": [
       "$\\displaystyle - a_{1} + a_{2} + a_{3} \\sigma + a_{4} \\left(\\sigma - 2\\right) + \\sigma = 0$"
      ],
      "text/plain": [
       "-a₁ + a₂ + a₃⋅σ + a₄⋅(σ - 2) + σ = 0"
      ]
     },
     "metadata": {},
     "output_type": "display_data"
    },
    {
     "data": {
      "text/latex": [
       "$\\displaystyle a_{1} + a_{2} + a_{3} \\sigma^{2} + a_{4} \\left(\\sigma^{2} - 4 \\sigma + 4\\right) - \\sigma^{2} = 0$"
      ],
      "text/plain": [
       "              2      ⎛ 2          ⎞    2    \n",
       "a₁ + a₂ + a₃⋅σ  + a₄⋅⎝σ  - 4⋅σ + 4⎠ - σ  = 0"
      ]
     },
     "metadata": {},
     "output_type": "display_data"
    },
    {
     "data": {
      "text/latex": [
       "$\\displaystyle - a_{1} + a_{2} + a_{3} \\sigma^{3} + a_{4} \\left(\\sigma^{3} - 6 \\sigma^{2} + 12 \\sigma - 8\\right) + \\sigma^{3} = 0$"
      ],
      "text/plain": [
       "               3      ⎛ 3      2           ⎞    3    \n",
       "-a₁ + a₂ + a₃⋅σ  + a₄⋅⎝σ  - 6⋅σ  + 12⋅σ - 8⎠ + σ  = 0"
      ]
     },
     "metadata": {},
     "output_type": "display_data"
    }
   ],
   "source": [
    "for i in system:\n",
    "    display(sm.Eq(i.lhs.collect([a1, a2, a3, a4]).simplify(), 0))"
   ]
  },
  {
   "cell_type": "markdown",
   "source": [
    "Первый порядок - первые два уравнения"
   ],
   "metadata": {
    "collapsed": false
   },
   "id": "fc1b3a2bd1a12583"
  },
  {
   "cell_type": "code",
   "execution_count": 32,
   "id": "9946f495d45d19b6",
   "metadata": {
    "ExecuteTime": {
     "end_time": "2024-02-26T18:11:59.041830500Z",
     "start_time": "2024-02-26T18:11:59.011748200Z"
    },
    "collapsed": false
   },
   "outputs": [],
   "source": [
    "system1 = sm.solve(system[:2], [a1, a2])"
   ]
  },
  {
   "cell_type": "code",
   "execution_count": 38,
   "id": "4b8379d39a6fd5a9",
   "metadata": {
    "ExecuteTime": {
     "end_time": "2024-02-26T18:16:09.864502600Z",
     "start_time": "2024-02-26T18:16:09.725221800Z"
    },
    "collapsed": false
   },
   "outputs": [
    {
     "data": {
      "text/latex": [
       "$\\displaystyle \\left\\{ a_{1} : \\frac{a_{3} \\sigma}{2} - \\frac{a_{3}}{2} + \\frac{a_{4} \\sigma}{2} - \\frac{3 a_{4}}{2} + \\frac{\\sigma}{2} + \\frac{1}{2}, \\  a_{2} : - \\frac{a_{3} \\sigma}{2} - \\frac{a_{3}}{2} - \\frac{a_{4} \\sigma}{2} + \\frac{a_{4}}{2} - \\frac{\\sigma}{2} + \\frac{1}{2}\\right\\}$"
      ],
      "text/plain": [
       "⎧    a₃⋅σ   a₃   a₄⋅σ   3⋅a₄   σ   1        a₃⋅σ   a₃   a₄⋅σ   a₄   σ   1⎫\n",
       "⎨a₁: ──── - ── + ──── - ──── + ─ + ─, a₂: - ──── - ── - ──── + ── - ─ + ─⎬\n",
       "⎩     2     2     2      2     2   2         2     2     2     2    2   2⎭"
      ]
     },
     "metadata": {},
     "output_type": "display_data"
    }
   ],
   "source": [
    "display(system1)"
   ]
  },
  {
   "cell_type": "code",
   "execution_count": 39,
   "id": "56e7ae7114f76a80",
   "metadata": {
    "ExecuteTime": {
     "end_time": "2024-02-26T18:16:27.809764200Z",
     "start_time": "2024-02-26T18:16:27.452302300Z"
    },
    "collapsed": false
   },
   "outputs": [
    {
     "data": {
      "text/latex": [
       "$\\displaystyle \\frac{a_{3} \\sigma}{2} - \\frac{a_{3}}{2} + \\frac{a_{4} \\sigma}{2} - \\frac{3 a_{4}}{2} + \\frac{\\sigma}{2} + \\frac{1}{2} \\geq 0$"
      ],
      "text/plain": [
       "a₃⋅σ   a₃   a₄⋅σ   3⋅a₄   σ   1    \n",
       "──── - ── + ──── - ──── + ─ + ─ ≥ 0\n",
       " 2     2     2      2     2   2    "
      ]
     },
     "metadata": {},
     "output_type": "display_data"
    },
    {
     "data": {
      "text/latex": [
       "$\\displaystyle - \\frac{a_{3} \\sigma}{2} - \\frac{a_{3}}{2} - \\frac{a_{4} \\sigma}{2} + \\frac{a_{4}}{2} - \\frac{\\sigma}{2} + \\frac{1}{2} \\geq 0$"
      ],
      "text/plain": [
       "  a₃⋅σ   a₃   a₄⋅σ   a₄   σ   1    \n",
       "- ──── - ── - ──── + ── - ─ + ─ ≥ 0\n",
       "   2     2     2     2    2   2    "
      ]
     },
     "metadata": {},
     "output_type": "display_data"
    },
    {
     "data": {
      "text/latex": [
       "$\\displaystyle a_{3} \\geq 0$"
      ],
      "text/plain": [
       "a₃ ≥ 0"
      ]
     },
     "metadata": {},
     "output_type": "display_data"
    },
    {
     "data": {
      "text/latex": [
       "$\\displaystyle a_{4} \\geq 0$"
      ],
      "text/plain": [
       "a₄ ≥ 0"
      ]
     },
     "metadata": {},
     "output_type": "display_data"
    }
   ],
   "source": [
    "for i in [*system1.values(), a3, a4]:\n",
    "    display(i >= 0)"
   ]
  },
  {
   "cell_type": "markdown",
   "source": [
    "Второй порядок - первые три уравнения"
   ],
   "metadata": {
    "collapsed": false
   },
   "id": "5bd0365657de3b12"
  },
  {
   "cell_type": "code",
   "execution_count": 51,
   "id": "3640c80e0390ec30",
   "metadata": {
    "collapsed": false,
    "ExecuteTime": {
     "end_time": "2024-02-26T18:39:19.595508Z",
     "start_time": "2024-02-26T18:39:18.990118100Z"
    }
   },
   "outputs": [
    {
     "data": {
      "text/plain": "                    2    \n     a₄⋅σ - 3⋅a₄ + σ  + σ\na₁ = ────────────────────\n            σ + 1        ",
      "text/latex": "$\\displaystyle a_{1} = \\frac{a_{4} \\sigma - 3 a_{4} + \\sigma^{2} + \\sigma}{\\sigma + 1}$"
     },
     "metadata": {},
     "output_type": "display_data"
    },
    {
     "data": {
      "text/plain": "a₂ = -a₄ - σ",
      "text/latex": "$\\displaystyle a_{2} = - a_{4} - \\sigma$"
     },
     "metadata": {},
     "output_type": "display_data"
    },
    {
     "data": {
      "text/plain": "     -a₄⋅σ + 3⋅a₄ + σ + 1\na₃ = ────────────────────\n            σ + 1        ",
      "text/latex": "$\\displaystyle a_{3} = \\frac{- a_{4} \\sigma + 3 a_{4} + \\sigma + 1}{\\sigma + 1}$"
     },
     "metadata": {},
     "output_type": "display_data"
    }
   ],
   "source": [
    "system2 = sm.solve(system[:3], [a1, a2, a3])\n",
    "for i, j in system2.items():\n",
    "    display(sm.Eq(i, j).simplify())"
   ]
  },
  {
   "cell_type": "markdown",
   "source": [
    "Третий порядок - все уравнения"
   ],
   "metadata": {
    "collapsed": false
   },
   "id": "31aba89370d57547"
  },
  {
   "cell_type": "code",
   "outputs": [
    {
     "data": {
      "text/plain": "a₁ = 2⋅σ",
      "text/latex": "$\\displaystyle a_{1} = 2 \\sigma$"
     },
     "metadata": {},
     "output_type": "display_data"
    },
    {
     "data": {
      "text/plain": "     2⋅σ⋅(1 - σ)\na₂ = ───────────\n        σ - 3   ",
      "text/latex": "$\\displaystyle a_{2} = \\frac{2 \\sigma \\left(1 - \\sigma\\right)}{\\sigma - 3}$"
     },
     "metadata": {},
     "output_type": "display_data"
    },
    {
     "data": {
      "text/plain": "a₃ + σ = 1",
      "text/latex": "$\\displaystyle a_{3} + \\sigma = 1$"
     },
     "metadata": {},
     "output_type": "display_data"
    },
    {
     "data": {
      "text/plain": "     σ⋅(σ + 1)\na₄ = ─────────\n       σ - 3  ",
      "text/latex": "$\\displaystyle a_{4} = \\frac{\\sigma \\left(\\sigma + 1\\right)}{\\sigma - 3}$"
     },
     "metadata": {},
     "output_type": "display_data"
    }
   ],
   "source": [
    "system3 = sm.solve(system, [a1, a2, a3, a4])\n",
    "for i, j in system3.items():\n",
    "    display(sm.Eq(i, j).simplify())"
   ],
   "metadata": {
    "collapsed": false,
    "ExecuteTime": {
     "end_time": "2024-02-26T18:39:35.935160400Z",
     "start_time": "2024-02-26T18:39:35.326231300Z"
    }
   },
   "id": "362964324d0f5fab",
   "execution_count": 52
  },
  {
   "cell_type": "code",
   "outputs": [],
   "source": [],
   "metadata": {
    "collapsed": false
   },
   "id": "e5b59694493a4dde"
  }
 ],
 "metadata": {
  "kernelspec": {
   "display_name": "Python 3 (ipykernel)",
   "language": "python",
   "name": "python3"
  },
  "language_info": {
   "codemirror_mode": {
    "name": "ipython",
    "version": 3
   },
   "file_extension": ".py",
   "mimetype": "text/x-python",
   "name": "python",
   "nbconvert_exporter": "python",
   "pygments_lexer": "ipython3",
   "version": "3.10.12"
  }
 },
 "nbformat": 4,
 "nbformat_minor": 5
}
