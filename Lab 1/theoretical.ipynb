{
 "cells": [
  {
   "cell_type": "code",
   "execution_count": 1,
   "id": "757d0140c8e3d162",
   "metadata": {
    "collapsed": false,
    "ExecuteTime": {
     "end_time": "2024-03-02T08:56:13.657922Z",
     "start_time": "2024-03-02T08:56:12.903936Z"
    }
   },
   "outputs": [],
   "source": [
    "import matplotlib.pyplot as plt\n",
    "import numpy as np\n",
    "import sympy as sm\n",
    "from IPython.display import display as Idisplay, Math as Imath"
   ]
  },
  {
   "cell_type": "code",
   "execution_count": 2,
   "id": "ca5bbc764ce39d36",
   "metadata": {
    "collapsed": false,
    "ExecuteTime": {
     "end_time": "2024-03-02T08:56:14.351513Z",
     "start_time": "2024-03-02T08:56:14.337170Z"
    }
   },
   "outputs": [],
   "source": [
    "sm.init_printing()\n",
    "\n",
    "\n",
    "def display(equations):\n",
    "    Idisplay(Imath(sm.latex(equations)))"
   ]
  },
  {
   "cell_type": "code",
   "execution_count": 3,
   "id": "38b4c715f885527f",
   "metadata": {
    "collapsed": false,
    "ExecuteTime": {
     "end_time": "2024-03-02T08:56:30.943915Z",
     "start_time": "2024-03-02T08:56:30.935557Z"
    }
   },
   "outputs": [],
   "source": [
    "x: sm.Symbol\n",
    "t: sm.Symbol\n",
    "h: sm.Symbol\n",
    "tau: sm.Symbol\n",
    "u: sm.Function\n",
    "lm: sm.Symbol\n",
    "sg: sm.Symbol\n",
    "x, t, h, tau, lm, sg = sm.symbols('x t h tau lambda sigma')\n",
    "u = sm.Function('u')(x, t)\n",
    "\n",
    "a1, a2, a3, a4 = sm.symbols('a_1 a_2 a_3 a_4')"
   ]
  },
  {
   "cell_type": "code",
   "execution_count": 4,
   "id": "210e93eea7dbdebd",
   "metadata": {
    "collapsed": false,
    "ExecuteTime": {
     "end_time": "2024-03-02T08:56:31.896028Z",
     "start_time": "2024-03-02T08:56:31.887336Z"
    }
   },
   "outputs": [],
   "source": [
    "def expansion(f: sm.Function, var: sm.Symbol, delta, n=4) -> sm.Function:\n",
    "    return sum(delta ** i / sm.factorial(i) * f.diff(var, i) for i in range(n))\n",
    "\n",
    "\n",
    "def expansion2(f: sm.Function, var1: sm.Symbol, var2: sm.Symbol, delta1, delta2):\n",
    "    res = expansion(expansion(f, var1, delta1), var2, delta2).expand()\n",
    "    return (res + sm.O(delta1 ** 4) + sm.O(delta2 ** 4) + sm.O(delta1 ** 2 * delta2 ** 2)\n",
    "            + sm.O(delta1 * delta2 ** 3) + sm.O(delta1 ** 3 * delta2)).simplify().removeO()\n"
   ]
  },
  {
   "cell_type": "code",
   "execution_count": 5,
   "id": "14be8bb55d768785",
   "metadata": {
    "collapsed": false,
    "ExecuteTime": {
     "end_time": "2024-03-02T08:56:32.918477Z",
     "start_time": "2024-03-02T08:56:32.811867Z"
    }
   },
   "outputs": [],
   "source": [
    "assert expansion2(u, x, t, 0, 0) == u"
   ]
  },
  {
   "cell_type": "markdown",
   "id": "b79eb61da280efc",
   "metadata": {
    "collapsed": false
   },
   "source": [
    "![](img.png \"Title\")"
   ]
  },
  {
   "cell_type": "markdown",
   "id": "8112d07b3176bbd9",
   "metadata": {
    "collapsed": false
   },
   "source": [
    "$$\n",
    "U_m^{n+1}=a_1U_{m-1}^n+a_2U_{m+1}^n+a_3U_m^{n-1}+a_4U_{m-2}^{n-1}\n",
    "$$"
   ]
  },
  {
   "cell_type": "code",
   "execution_count": 6,
   "id": "85776d992eb21438",
   "metadata": {
    "collapsed": false,
    "ExecuteTime": {
     "end_time": "2024-03-02T08:56:36.501189Z",
     "start_time": "2024-03-02T08:56:34.889398Z"
    }
   },
   "outputs": [
    {
     "data": {
      "text/plain": "<IPython.core.display.Math object>",
      "text/latex": "$\\displaystyle \\frac{\\tau^{3} \\frac{\\partial^{3}}{\\partial t^{3}} u{\\left(x,t \\right)}}{6} + \\frac{\\tau^{2} \\frac{\\partial^{2}}{\\partial t^{2}} u{\\left(x,t \\right)}}{2} + \\tau \\frac{\\partial}{\\partial t} u{\\left(x,t \\right)} + u{\\left(x,t \\right)} = a_{1} \\left(- \\frac{h^{3} \\frac{\\partial^{3}}{\\partial x^{3}} u{\\left(x,t \\right)}}{6} + \\frac{h^{2} \\frac{\\partial^{2}}{\\partial x^{2}} u{\\left(x,t \\right)}}{2} - h \\frac{\\partial}{\\partial x} u{\\left(x,t \\right)} + u{\\left(x,t \\right)}\\right) + a_{2} \\left(\\frac{h^{3} \\frac{\\partial^{3}}{\\partial x^{3}} u{\\left(x,t \\right)}}{6} + \\frac{h^{2} \\frac{\\partial^{2}}{\\partial x^{2}} u{\\left(x,t \\right)}}{2} + h \\frac{\\partial}{\\partial x} u{\\left(x,t \\right)} + u{\\left(x,t \\right)}\\right) + a_{3} \\left(- \\frac{\\tau^{3} \\frac{\\partial^{3}}{\\partial t^{3}} u{\\left(x,t \\right)}}{6} + \\frac{\\tau^{2} \\frac{\\partial^{2}}{\\partial t^{2}} u{\\left(x,t \\right)}}{2} - \\tau \\frac{\\partial}{\\partial t} u{\\left(x,t \\right)} + u{\\left(x,t \\right)}\\right) + a_{4} \\left(- \\frac{4 h^{3} \\frac{\\partial^{3}}{\\partial x^{3}} u{\\left(x,t \\right)}}{3} - 2 h^{2} \\tau \\frac{\\partial^{3}}{\\partial x^{2}\\partial t} u{\\left(x,t \\right)} + 2 h^{2} \\frac{\\partial^{2}}{\\partial x^{2}} u{\\left(x,t \\right)} - h \\tau^{2} \\frac{\\partial^{3}}{\\partial x\\partial t^{2}} u{\\left(x,t \\right)} + 2 h \\tau \\frac{\\partial^{2}}{\\partial x\\partial t} u{\\left(x,t \\right)} - 2 h \\frac{\\partial}{\\partial x} u{\\left(x,t \\right)} - \\frac{\\tau^{3} \\frac{\\partial^{3}}{\\partial t^{3}} u{\\left(x,t \\right)}}{6} + \\frac{\\tau^{2} \\frac{\\partial^{2}}{\\partial t^{2}} u{\\left(x,t \\right)}}{2} - \\tau \\frac{\\partial}{\\partial t} u{\\left(x,t \\right)} + u{\\left(x,t \\right)}\\right)$"
     },
     "metadata": {},
     "output_type": "display_data"
    }
   ],
   "source": [
    "expr = sm.Eq(expansion2(u, x, t, 0, tau), a1 * expansion2(u, x, t, -h, 0) + a2 * expansion2(u, x, t, h, 0) \\\n",
    "             + a3 * expansion2(u, x, t, 0, -tau) + a4 * expansion2(u, x, t, -2 * h, -tau))\n",
    "display(expr)"
   ]
  },
  {
   "cell_type": "markdown",
   "id": "a339d065267fc290",
   "metadata": {
    "collapsed": false
   },
   "source": [
    "$$\n",
    "U_t=-\\lambda U_x\n",
    "\\\\\n",
    "U_{tt}=-\\lambda^2 U_{xx}\n",
    "\\\\\n",
    "U_{ttt}=-\\lambda^3 U_{xxxx}\n",
    "\\\\\n",
    "U_{xt}=-\\lambda U_{xx}\n",
    "\\\\\n",
    "U_{xtt}=\\lambda^2 U_{xxx}\n",
    "\\\\\n",
    "U_{xxt}=-\\lambda U_{xxx}\n",
    "$$"
   ]
  },
  {
   "cell_type": "code",
   "execution_count": 7,
   "id": "3bc2d50c553e27b2",
   "metadata": {
    "collapsed": false,
    "ExecuteTime": {
     "end_time": "2024-03-02T08:56:48.561869Z",
     "start_time": "2024-03-02T08:56:38.225981Z"
    }
   },
   "outputs": [
    {
     "data": {
      "text/plain": "<IPython.core.display.Math object>",
      "text/latex": "$\\displaystyle \\frac{\\lambda^{3} \\tau^{3} \\frac{\\partial^{3}}{\\partial x^{3}} u{\\left(x,t \\right)}}{6} - \\frac{\\lambda^{2} \\tau^{2} \\frac{\\partial^{2}}{\\partial x^{2}} u{\\left(x,t \\right)}}{2} + \\lambda \\tau \\frac{\\partial}{\\partial x} u{\\left(x,t \\right)} - u{\\left(x,t \\right)} = \\frac{a_{1} \\left(h^{3} \\frac{\\partial^{3}}{\\partial x^{3}} u{\\left(x,t \\right)} - 3 h^{2} \\frac{\\partial^{2}}{\\partial x^{2}} u{\\left(x,t \\right)} + 6 h \\frac{\\partial}{\\partial x} u{\\left(x,t \\right)} - 6 u{\\left(x,t \\right)}\\right)}{6} - \\frac{a_{2} \\left(h^{3} \\frac{\\partial^{3}}{\\partial x^{3}} u{\\left(x,t \\right)} + 3 h^{2} \\frac{\\partial^{2}}{\\partial x^{2}} u{\\left(x,t \\right)} + 6 h \\frac{\\partial}{\\partial x} u{\\left(x,t \\right)} + 6 u{\\left(x,t \\right)}\\right)}{6} - \\frac{a_{3} \\left(\\lambda^{3} \\tau^{3} \\frac{\\partial^{3}}{\\partial x^{3}} u{\\left(x,t \\right)} + 3 \\lambda^{2} \\tau^{2} \\frac{\\partial^{2}}{\\partial x^{2}} u{\\left(x,t \\right)} + 6 \\lambda \\tau \\frac{\\partial}{\\partial x} u{\\left(x,t \\right)} + 6 u{\\left(x,t \\right)}\\right)}{6} - \\frac{a_{4} \\left(- 8 h^{3} \\frac{\\partial^{3}}{\\partial x^{3}} u{\\left(x,t \\right)} + 12 h^{2} \\lambda \\tau \\frac{\\partial^{3}}{\\partial x^{3}} u{\\left(x,t \\right)} + 12 h^{2} \\frac{\\partial^{2}}{\\partial x^{2}} u{\\left(x,t \\right)} - 6 h \\lambda^{2} \\tau^{2} \\frac{\\partial^{3}}{\\partial x^{3}} u{\\left(x,t \\right)} - 12 h \\lambda \\tau \\frac{\\partial^{2}}{\\partial x^{2}} u{\\left(x,t \\right)} - 12 h \\frac{\\partial}{\\partial x} u{\\left(x,t \\right)} + \\lambda^{3} \\tau^{3} \\frac{\\partial^{3}}{\\partial x^{3}} u{\\left(x,t \\right)} + 3 \\lambda^{2} \\tau^{2} \\frac{\\partial^{2}}{\\partial x^{2}} u{\\left(x,t \\right)} + 6 \\lambda \\tau \\frac{\\partial}{\\partial x} u{\\left(x,t \\right)} + 6 u{\\left(x,t \\right)}\\right)}{6}$"
     },
     "metadata": {},
     "output_type": "display_data"
    }
   ],
   "source": [
    "expr = expr.subs(u.diff(t), -lm * u.diff(x)).simplify()\n",
    "expr = expr.subs(u.diff(t, 2), lm ** 2 * u.diff(x, 2)).simplify()\n",
    "expr = expr.subs(u.diff(t, 3), -lm ** 3 * u.diff(x, 3)).simplify()\n",
    "expr = expr.subs(u.diff(x).diff(t), -lm * u.diff(x, 2)).simplify()\n",
    "expr = expr.subs(u.diff(x).diff(t, 2), lm ** 2 * u.diff(x, 3)).simplify()\n",
    "expr = expr.subs(u.diff(x, 2).diff(t), -lm * u.diff(x, 3)).simplify()\n",
    "display(expr)"
   ]
  },
  {
   "cell_type": "code",
   "execution_count": 8,
   "id": "62c9c710ceee65b2",
   "metadata": {
    "collapsed": false,
    "ExecuteTime": {
     "end_time": "2024-03-02T08:56:50.237444Z",
     "start_time": "2024-03-02T08:56:49.843786Z"
    }
   },
   "outputs": [
    {
     "data": {
      "text/plain": "<IPython.core.display.Math object>",
      "text/latex": "$\\displaystyle \\left(a_{1} + a_{2} + a_{3} + a_{4} - 1\\right) u{\\left(x,t \\right)} + \\left(- a_{1} h + a_{2} h + a_{3} \\lambda \\tau - 2 a_{4} h + a_{4} \\lambda \\tau + \\lambda \\tau\\right) \\frac{\\partial}{\\partial x} u{\\left(x,t \\right)} + \\left(\\frac{a_{1} h^{2}}{2} + \\frac{a_{2} h^{2}}{2} + \\frac{a_{3} \\lambda^{2} \\tau^{2}}{2} + 2 a_{4} h^{2} - 2 a_{4} h \\lambda \\tau + \\frac{a_{4} \\lambda^{2} \\tau^{2}}{2} - \\frac{\\lambda^{2} \\tau^{2}}{2}\\right) \\frac{\\partial^{2}}{\\partial x^{2}} u{\\left(x,t \\right)} + \\left(- \\frac{a_{1} h^{3}}{6} + \\frac{a_{2} h^{3}}{6} + \\frac{a_{3} \\lambda^{3} \\tau^{3}}{6} - \\frac{4 a_{4} h^{3}}{3} + 2 a_{4} h^{2} \\lambda \\tau - a_{4} h \\lambda^{2} \\tau^{2} + \\frac{a_{4} \\lambda^{3} \\tau^{3}}{6} + \\frac{\\lambda^{3} \\tau^{3}}{6}\\right) \\frac{\\partial^{3}}{\\partial x^{3}} u{\\left(x,t \\right)}$"
     },
     "metadata": {},
     "output_type": "display_data"
    }
   ],
   "source": [
    "expr2 = expr.lhs - expr.rhs\n",
    "expr2 = sm.factor(expr2).collect(u)\n",
    "display(expr2)"
   ]
  },
  {
   "cell_type": "code",
   "execution_count": 9,
   "id": "d0f027773bff6e1b",
   "metadata": {
    "collapsed": false,
    "ExecuteTime": {
     "end_time": "2024-03-02T08:56:51.792724Z",
     "start_time": "2024-03-02T08:56:51.639484Z"
    }
   },
   "outputs": [],
   "source": [
    "system = [\n",
    "    sm.Eq(expr2.coeff(u), 0),\n",
    "    sm.Eq(expr2.coeff(u.diff(x)) / h, 0).expand().subs(lm * tau / h, sg),\n",
    "    sm.Eq(expr2.coeff(u.diff(x, 2)) * 2 / h ** 2, 0).expand().subs(lm * tau / h, sg),\n",
    "    sm.Eq(expr2.coeff(u.diff(x, 3)) * 6 / h ** 3, 0).expand().subs(lm * tau / h, sg)\n",
    "]"
   ]
  },
  {
   "cell_type": "code",
   "execution_count": 10,
   "id": "2d87a5cbc688c6f5",
   "metadata": {
    "collapsed": false,
    "ExecuteTime": {
     "end_time": "2024-03-02T08:56:53.312030Z",
     "start_time": "2024-03-02T08:56:53.045859Z"
    }
   },
   "outputs": [
    {
     "data": {
      "text/plain": "<IPython.core.display.Math object>",
      "text/latex": "$\\displaystyle a_{1} + a_{2} + a_{3} + a_{4} - 1 = 0$"
     },
     "metadata": {},
     "output_type": "display_data"
    },
    {
     "data": {
      "text/plain": "<IPython.core.display.Math object>",
      "text/latex": "$\\displaystyle - a_{1} + a_{2} + a_{3} \\sigma + a_{4} \\left(\\sigma - 2\\right) + \\sigma = 0$"
     },
     "metadata": {},
     "output_type": "display_data"
    },
    {
     "data": {
      "text/plain": "<IPython.core.display.Math object>",
      "text/latex": "$\\displaystyle a_{1} + a_{2} + a_{3} \\sigma^{2} + a_{4} \\left(\\sigma^{2} - 4 \\sigma + 4\\right) - \\sigma^{2} = 0$"
     },
     "metadata": {},
     "output_type": "display_data"
    },
    {
     "data": {
      "text/plain": "<IPython.core.display.Math object>",
      "text/latex": "$\\displaystyle - a_{1} + a_{2} + a_{3} \\sigma^{3} + a_{4} \\left(\\sigma^{3} - 6 \\sigma^{2} + 12 \\sigma - 8\\right) + \\sigma^{3} = 0$"
     },
     "metadata": {},
     "output_type": "display_data"
    }
   ],
   "source": [
    "for i in system:\n",
    "    display(sm.Eq(i.lhs.collect([a1, a2, a3, a4]).simplify(), 0))"
   ]
  },
  {
   "cell_type": "markdown",
   "source": [
    "Первый порядок - первые два уравнения"
   ],
   "metadata": {
    "collapsed": false
   },
   "id": "fc1b3a2bd1a12583"
  },
  {
   "cell_type": "code",
   "execution_count": 11,
   "id": "9946f495d45d19b6",
   "metadata": {
    "collapsed": false,
    "ExecuteTime": {
     "end_time": "2024-03-02T08:56:55.878326Z",
     "start_time": "2024-03-02T08:56:55.833241Z"
    }
   },
   "outputs": [],
   "source": [
    "system1 = sm.solve(system[:2], [a1, a2])"
   ]
  },
  {
   "cell_type": "code",
   "execution_count": 22,
   "id": "56e7ae7114f76a80",
   "metadata": {
    "collapsed": false,
    "ExecuteTime": {
     "end_time": "2024-03-02T09:02:57.973849Z",
     "start_time": "2024-03-02T09:02:57.931151Z"
    }
   },
   "outputs": [
    {
     "data": {
      "text/plain": "<IPython.core.display.Math object>",
      "text/latex": "$\\displaystyle a_{3} \\left(\\frac{\\sigma}{2} - \\frac{1}{2}\\right) + a_{4} \\left(\\frac{\\sigma}{2} - \\frac{3}{2}\\right) + \\frac{\\sigma}{2} + \\frac{1}{2} \\geq 0$"
     },
     "metadata": {},
     "output_type": "display_data"
    },
    {
     "data": {
      "text/plain": "<IPython.core.display.Math object>",
      "text/latex": "$\\displaystyle a_{3} \\left(- \\frac{\\sigma}{2} - \\frac{1}{2}\\right) + a_{4} \\cdot \\left(\\frac{1}{2} - \\frac{\\sigma}{2}\\right) - \\frac{\\sigma}{2} + \\frac{1}{2} \\geq 0$"
     },
     "metadata": {},
     "output_type": "display_data"
    },
    {
     "data": {
      "text/plain": "<IPython.core.display.Math object>",
      "text/latex": "$\\displaystyle a_{3} \\geq 0$"
     },
     "metadata": {},
     "output_type": "display_data"
    },
    {
     "data": {
      "text/plain": "<IPython.core.display.Math object>",
      "text/latex": "$\\displaystyle a_{4} \\geq 0$"
     },
     "metadata": {},
     "output_type": "display_data"
    }
   ],
   "source": [
    "for i in [*system1.values(), a3, a4]:\n",
    "    display(i.collect((a3, a4)) >= 0)"
   ]
  },
  {
   "cell_type": "markdown",
   "source": [
    "Второй порядок - первые три уравнения"
   ],
   "metadata": {
    "collapsed": false
   },
   "id": "5bd0365657de3b12"
  },
  {
   "cell_type": "code",
   "execution_count": 24,
   "id": "3640c80e0390ec30",
   "metadata": {
    "collapsed": false,
    "ExecuteTime": {
     "end_time": "2024-03-02T09:10:55.995962Z",
     "start_time": "2024-03-02T09:10:55.759403Z"
    }
   },
   "outputs": [
    {
     "data": {
      "text/plain": "<IPython.core.display.Math object>",
      "text/latex": "$\\displaystyle a_{1} = \\frac{a_{4} \\sigma - 3 a_{4} + \\sigma^{2} + \\sigma}{\\sigma + 1}$"
     },
     "metadata": {},
     "output_type": "display_data"
    },
    {
     "data": {
      "text/plain": "<IPython.core.display.Math object>",
      "text/latex": "$\\displaystyle a_{2} = - a_{4} - \\sigma$"
     },
     "metadata": {},
     "output_type": "display_data"
    },
    {
     "data": {
      "text/plain": "<IPython.core.display.Math object>",
      "text/latex": "$\\displaystyle a_{3} = \\frac{- a_{4} \\sigma + 3 a_{4} + \\sigma + 1}{\\sigma + 1}$"
     },
     "metadata": {},
     "output_type": "display_data"
    }
   ],
   "source": [
    "system2 = sm.solve(system[:3], [a1, a2, a3])\n",
    "for i, j in system2.items():\n",
    "    display(sm.Eq(i, j).simplify())"
   ]
  },
  {
   "cell_type": "markdown",
   "source": [
    "Третий порядок - все уравнения"
   ],
   "metadata": {
    "collapsed": false
   },
   "id": "31aba89370d57547"
  },
  {
   "cell_type": "code",
   "outputs": [
    {
     "data": {
      "text/plain": "<IPython.core.display.Math object>",
      "text/latex": "$\\displaystyle a_{1} = 2 \\sigma$"
     },
     "metadata": {},
     "output_type": "display_data"
    },
    {
     "data": {
      "text/plain": "<IPython.core.display.Math object>",
      "text/latex": "$\\displaystyle a_{2} = \\frac{2 \\sigma \\left(1 - \\sigma\\right)}{\\sigma - 3}$"
     },
     "metadata": {},
     "output_type": "display_data"
    },
    {
     "data": {
      "text/plain": "<IPython.core.display.Math object>",
      "text/latex": "$\\displaystyle a_{3} + \\sigma = 1$"
     },
     "metadata": {},
     "output_type": "display_data"
    },
    {
     "data": {
      "text/plain": "<IPython.core.display.Math object>",
      "text/latex": "$\\displaystyle a_{4} = \\frac{\\sigma \\left(\\sigma + 1\\right)}{\\sigma - 3}$"
     },
     "metadata": {},
     "output_type": "display_data"
    }
   ],
   "source": [
    "system3 = sm.solve(system, [a1, a2, a3, a4])\n",
    "for i, j in system3.items():\n",
    "    display(sm.Eq(i, j).simplify())"
   ],
   "metadata": {
    "collapsed": false,
    "ExecuteTime": {
     "end_time": "2024-03-02T08:57:10.209032Z",
     "start_time": "2024-03-02T08:57:09.710477Z"
    }
   },
   "id": "362964324d0f5fab",
   "execution_count": 15
  },
  {
   "cell_type": "code",
   "outputs": [],
   "source": [
    "sigma = 0.25"
   ],
   "metadata": {
    "collapsed": false,
    "ExecuteTime": {
     "end_time": "2024-03-02T08:57:11.854406Z",
     "start_time": "2024-03-02T08:57:11.845221Z"
    }
   },
   "id": "e5b59694493a4dde",
   "execution_count": 16
  },
  {
   "cell_type": "markdown",
   "source": [
    "Вершины четырёхугольника в координатах a_4, a_3"
   ],
   "metadata": {
    "collapsed": false
   },
   "id": "bd6b20ec0d1bdcce"
  },
  {
   "cell_type": "code",
   "outputs": [
    {
     "data": {
      "text/plain": "<IPython.core.display.Math object>",
      "text/latex": "$\\displaystyle - \\frac{3 a_{3}}{8} - \\frac{11 a_{4}}{8} + \\frac{5}{8} \\geq 0$"
     },
     "metadata": {},
     "output_type": "display_data"
    },
    {
     "data": {
      "text/plain": "<IPython.core.display.Math object>",
      "text/latex": "$\\displaystyle - \\frac{5 a_{3}}{8} + \\frac{3 a_{4}}{8} + \\frac{3}{8} \\geq 0$"
     },
     "metadata": {},
     "output_type": "display_data"
    }
   ],
   "source": [
    "display(system1[a1].subs(sg, sigma).nsimplify() >= 0)\n",
    "display(system1[a2].subs(sg, sigma).nsimplify() >= 0)"
   ],
   "metadata": {
    "collapsed": false,
    "ExecuteTime": {
     "end_time": "2024-03-02T09:12:52.879125Z",
     "start_time": "2024-03-02T09:12:52.849Z"
    }
   },
   "id": "1fb974aedeca9f7d",
   "execution_count": 27
  },
  {
   "cell_type": "code",
   "outputs": [
    {
     "data": {
      "text/plain": "<IPython.core.display.Math object>",
      "text/latex": "$\\displaystyle a_{3} = \\frac{5}{3} - \\frac{11 a_{4}}{3}$"
     },
     "metadata": {},
     "output_type": "display_data"
    },
    {
     "data": {
      "text/plain": "<IPython.core.display.Math object>",
      "text/latex": "$\\displaystyle a_{3} = \\frac{3 a_{4}}{5} + \\frac{3}{5}$"
     },
     "metadata": {},
     "output_type": "display_data"
    }
   ],
   "source": [
    "display(sm.Eq(a3, sm.solve(sm.Eq(system1[a1].subs(sg, sigma), 0), a3)[0].nsimplify()))\n",
    "display(sm.Eq(a3,sm.solve(sm.Eq(system1[a2].subs(sg, sigma), 0), a3)[0].nsimplify()))"
   ],
   "metadata": {
    "collapsed": false,
    "ExecuteTime": {
     "end_time": "2024-03-02T09:00:28.425034Z",
     "start_time": "2024-03-02T09:00:28.341473Z"
    }
   },
   "id": "ad49e8e166303f1b",
   "execution_count": 21
  },
  {
   "cell_type": "code",
   "outputs": [
    {
     "data": {
      "text/plain": "<IPython.core.display.Math object>",
      "text/latex": "$\\displaystyle \\left( \\frac{5}{11}, \\  0\\right)$"
     },
     "metadata": {},
     "output_type": "display_data"
    },
    {
     "data": {
      "text/plain": "<IPython.core.display.Math object>",
      "text/latex": "$\\displaystyle \\left( 0, \\  \\frac{5}{3}\\right)$"
     },
     "metadata": {},
     "output_type": "display_data"
    },
    {
     "data": {
      "text/plain": "<IPython.core.display.Math object>",
      "text/latex": "$\\displaystyle \\left( -1, \\  0\\right)$"
     },
     "metadata": {},
     "output_type": "display_data"
    },
    {
     "data": {
      "text/plain": "<IPython.core.display.Math object>",
      "text/latex": "$\\displaystyle \\left( 0, \\  \\frac{3}{5}\\right)$"
     },
     "metadata": {},
     "output_type": "display_data"
    }
   ],
   "source": [
    "A = (sm.solve(sm.Eq(system1[a1].subs(a3, 0).subs(sg, sigma), 0), a4)[0].nsimplify(), 0)\n",
    "B = (0, sm.solve(sm.Eq(system1[a1].subs(a4, 0).subs(sg, sigma), 0), a3)[0].nsimplify())\n",
    "C = (sm.solve(sm.Eq(system1[a2].subs(a3, 0).subs(sg, sigma), 0), a4)[0].nsimplify(), 0)\n",
    "D = (0, sm.solve(sm.Eq(system1[a2].subs(a4, 0).subs(sg, sigma), 0), a3)[0].nsimplify())\n",
    "display(A)\n",
    "display(B)\n",
    "display(C)\n",
    "display(D)"
   ],
   "metadata": {
    "collapsed": false,
    "ExecuteTime": {
     "end_time": "2024-03-02T08:57:35.470230Z",
     "start_time": "2024-03-02T08:57:35.336431Z"
    }
   },
   "id": "cbb82f409e84bd84",
   "execution_count": 19
  },
  {
   "cell_type": "code",
   "outputs": [
    {
     "data": {
      "text/plain": "<Figure size 640x480 with 1 Axes>",
      "image/png": "[encoded data removed]"
     },
     "metadata": {},
     "output_type": "display_data"
    }
   ],
   "source": [
    "polygon = [A, B, C, D, A]\n",
    "xs, ys = zip(*polygon)\n",
    "plt.figure()\n",
    "plt.plot(xs, ys)\n",
    "\n",
    "xx = np.linspace(-1.5, 1.5, 100)\n",
    "# yy =\n",
    "\n",
    "plt.grid()\n",
    "ax = plt.gca()\n",
    "ax.set_xlabel(r'$\\alpha_4$', fontsize=18)\n",
    "ax.set_ylabel(r'$\\alpha_3$', fontsize=18)\n",
    "ax.set_title(r'$\\sigma=0.25$', fontsize=18)\n",
    "\n",
    "plt.show()"
   ],
   "metadata": {
    "collapsed": false,
    "ExecuteTime": {
     "end_time": "2024-03-01T20:07:28.493369Z",
     "start_time": "2024-03-01T20:07:28.328053Z"
    }
   },
   "id": "13564624448e191e",
   "execution_count": 40
  },
  {
   "cell_type": "code",
   "outputs": [],
   "source": [
    "xx = np.linspace(0, 1, 100)\n",
    "axis_xx = np.linspace(-1, 1, 100)\n",
    "line1 = np.array([max(-7 * x + 5, 0) / 9 for x in xx])\n",
    "line2 = np.array([max(-3 * x + 1, 0) / 5 for x in xx])\n",
    "line3 = np.array([(-21 * x + 5) / 45 for x in axis_xx])\n",
    "\n",
    "plt.plot(xx, line1, color='r')\n",
    "plt.plot(xx, line2, color='r')\n",
    "plt.plot(axis_xx, line3, color='g')\n",
    "plt.plot(axis_xx, [0 for x in axis_xx], color='black')\n",
    "plt.plot([0 for x in axis_xx], [x for x in axis_xx], color='black')\n",
    "plt.grid()\n",
    "\n",
    "ax = plt.gca()\n",
    "ax.fill_between(xx, line2, line1, where=(xx >= 0))\n",
    "ax.set_xlim(-0.5, 1)\n",
    "ax.set_ylim(-0.5, 1)\n",
    "ax.set_xlabel(r'$\\alpha_4$', fontsize=18)\n",
    "ax.set_ylabel(r'$\\alpha_1$', fontsize=18)\n",
    "ax.set_title(r'$\\sigma=0.25$', fontsize=18)\n",
    "\n",
    "plt.plot(1 / 3, 0, 'or')\n",
    "ax.annotate('A1', [1 / 3, 0], fontsize=16)\n",
    "\n",
    "plt.plot(0, 1 / 5, 'or')\n",
    "ax.annotate('A2', [0, 1 / 5], fontsize=16)\n",
    "\n",
    "plt.plot(0, 5 / 9, 'or')\n",
    "ax.annotate('A3', [0, 5 / 9], fontsize=16)\n",
    "\n",
    "plt.plot(5 / 7, 0, 'or')\n",
    "ax.annotate('A4', [5 / 7, 0], fontsize=16)\n",
    "\n",
    "plt.plot(10 / 21, -7 / 63, 'or')\n",
    "ax.annotate('C', [10 / 21, -1 / 9], fontsize=16)\n",
    "\n",
    "plt.plot(130 / 411, -5 / 137, 'or')\n",
    "ax.annotate('B1', [130 / 411, -5 / 137], fontsize=16)\n",
    "\n",
    "plt.plot(1 / 4, -1 / 180, 'or')\n",
    "ax.annotate('B2', [1 / 4, -1 / 180], fontsize=16)\n",
    "\n",
    "plt.plot(0.6, -38 / 225, 'or')\n",
    "ax.annotate('B3', [0.6, -38 / 225], fontsize=16)\n",
    "\n",
    "fig = plt.gcf()\n",
    "fig.set_size_inches(16, 10)"
   ],
   "metadata": {
    "collapsed": false
   },
   "id": "d4d1cd956383e9a0"
  }
 ],
 "metadata": {
  "kernelspec": {
   "display_name": "Python 3 (ipykernel)",
   "language": "python",
   "name": "python3"
  },
  "language_info": {
   "codemirror_mode": {
    "name": "ipython",
    "version": 3
   },
   "file_extension": ".py",
   "mimetype": "text/x-python",
   "name": "python",
   "nbconvert_exporter": "python",
   "pygments_lexer": "ipython3",
   "version": "3.10.12"
  }
 },
 "nbformat": 4,
 "nbformat_minor": 5
}
